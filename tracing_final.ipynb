{
  "cells": [
    {
      "cell_type": "markdown",
      "metadata": {
        "id": "m66vukpdsL_d"
      },
      "source": [
        " <h1 style=\"text-align:center;\">Exploratory Data Analysis of Microservice Tracing Data</h1>\n",
        "\n",
        "\n"
      ]
    },
    {
      "cell_type": "markdown",
      "metadata": {},
      "source": [
        "Microservices are an architectural approach to developing software applications as a collection of small, independent services that communicate with each other over a network.\n",
        "\n",
        "Focus:\n",
        "\n",
        "     To do EDA on Microservice Tracing Data"
      ]
    },
    {
      "cell_type": "code",
      "execution_count": 2,
      "metadata": {
        "id": "Pbkvcqcb1aK-"
      },
      "outputs": [],
      "source": [
        "## import libraries\n",
        "import numpy as np\n",
        "import pandas as pd\n",
        "from matplotlib import pyplot as plt\n",
        "import seaborn as sns\n",
        "import warnings\n",
        "\n",
        "# To ignore all warnings\n",
        "warnings.filterwarnings(\"ignore\")\n"
      ]
    },
    {
      "cell_type": "code",
      "execution_count": 5,
      "metadata": {
        "colab": {
          "base_uri": "https://localhost:8080/",
          "height": 617
        },
        "id": "_i59vAn92Hta",
        "outputId": "16afd960-a020-48ab-9363-d4ada9b60bb7"
      },
      "outputs": [
        {
          "data": {
            "application/vnd.google.colaboratory.intrinsic+json": {
              "type": "dataframe",
              "variable_name": "df"
            },
            "text/html": [
              "\n",
              "  <div id=\"df-8c0a7d7b-635c-46fe-8aa5-04393cf67005\" class=\"colab-df-container\">\n",
              "    <div>\n",
              "<style scoped>\n",
              "    .dataframe tbody tr th:only-of-type {\n",
              "        vertical-align: middle;\n",
              "    }\n",
              "\n",
              "    .dataframe tbody tr th {\n",
              "        vertical-align: top;\n",
              "    }\n",
              "\n",
              "    .dataframe thead th {\n",
              "        text-align: right;\n",
              "    }\n",
              "</style>\n",
              "<table border=\"1\" class=\"dataframe\">\n",
              "  <thead>\n",
              "    <tr style=\"text-align: right;\">\n",
              "      <th></th>\n",
              "      <th>Timestamp</th>\n",
              "      <th>traceID</th>\n",
              "      <th>spanID</th>\n",
              "      <th>parentSpanID</th>\n",
              "      <th>serviceName</th>\n",
              "      <th>Name</th>\n",
              "      <th>durationNano</th>\n",
              "    </tr>\n",
              "  </thead>\n",
              "  <tbody>\n",
              "    <tr>\n",
              "      <th>0</th>\n",
              "      <td>2023-11-23 04:42:32.707</td>\n",
              "      <td>d8d992638d73274d0a6710a1f9d17f93</td>\n",
              "      <td>0d87dcf5ea5aeaab</td>\n",
              "      <td>NaN</td>\n",
              "      <td>featureflagservice</td>\n",
              "      <td>/</td>\n",
              "      <td>887477</td>\n",
              "    </tr>\n",
              "    <tr>\n",
              "      <th>1</th>\n",
              "      <td>2023-11-23 04:42:32.707</td>\n",
              "      <td>d8d992638d73274d0a6710a1f9d17f93</td>\n",
              "      <td>bd0a6f75f1a901b7</td>\n",
              "      <td>0d87dcf5ea5aeaab</td>\n",
              "      <td>featureflagservice</td>\n",
              "      <td>featureflagservice.repo.query:featureflags</td>\n",
              "      <td>481634</td>\n",
              "    </tr>\n",
              "    <tr>\n",
              "      <th>2</th>\n",
              "      <td>2023-11-23 04:42:33.930</td>\n",
              "      <td>fab7ab123d61c8d7d71062fc44ffb87e</td>\n",
              "      <td>fe4acd4c8a763d24</td>\n",
              "      <td>NaN</td>\n",
              "      <td>frontend-proxy</td>\n",
              "      <td>ingress</td>\n",
              "      <td>213000</td>\n",
              "    </tr>\n",
              "    <tr>\n",
              "      <th>3</th>\n",
              "      <td>2023-11-23 04:42:36.928</td>\n",
              "      <td>39a34f6b196aa69cdd5364bfc73b35b4</td>\n",
              "      <td>b3c68f9f4a73524b</td>\n",
              "      <td>NaN</td>\n",
              "      <td>frontend-proxy</td>\n",
              "      <td>ingress</td>\n",
              "      <td>602000</td>\n",
              "    </tr>\n",
              "    <tr>\n",
              "      <th>4</th>\n",
              "      <td>2023-11-23 04:42:39.924</td>\n",
              "      <td>61e0ffa4c695a832b05f406999cf319c</td>\n",
              "      <td>b204b9bce1b3ac35</td>\n",
              "      <td>NaN</td>\n",
              "      <td>frontend-proxy</td>\n",
              "      <td>ingress</td>\n",
              "      <td>556000</td>\n",
              "    </tr>\n",
              "    <tr>\n",
              "      <th>...</th>\n",
              "      <td>...</td>\n",
              "      <td>...</td>\n",
              "      <td>...</td>\n",
              "      <td>...</td>\n",
              "      <td>...</td>\n",
              "      <td>...</td>\n",
              "      <td>...</td>\n",
              "    </tr>\n",
              "    <tr>\n",
              "      <th>183610</th>\n",
              "      <td>2023-11-23 03:44:52.018</td>\n",
              "      <td>cc3f285a2ef094d4ba7582b1d5d47882</td>\n",
              "      <td>ebf0df7adc41ca4d</td>\n",
              "      <td>53e18cd5258047f5</td>\n",
              "      <td>recommendationservice</td>\n",
              "      <td>/oteldemo.ProductCatalogService/ListProducts</td>\n",
              "      <td>1016311</td>\n",
              "    </tr>\n",
              "    <tr>\n",
              "      <th>183611</th>\n",
              "      <td>2023-11-23 03:44:54.128</td>\n",
              "      <td>be4a70fee4913f3cf56b1c64228bcdb5</td>\n",
              "      <td>0975afe20d7368d2</td>\n",
              "      <td>7a1c6f8d9bff070f</td>\n",
              "      <td>currencyservice</td>\n",
              "      <td>CurrencyService/Convert</td>\n",
              "      <td>34953</td>\n",
              "    </tr>\n",
              "    <tr>\n",
              "      <th>183612</th>\n",
              "      <td>2023-11-23 03:44:54.130</td>\n",
              "      <td>be4a70fee4913f3cf56b1c64228bcdb5</td>\n",
              "      <td>96139b9d0d16639a</td>\n",
              "      <td>8f0b4f79ec0d0005</td>\n",
              "      <td>currencyservice</td>\n",
              "      <td>CurrencyService/Convert</td>\n",
              "      <td>25660</td>\n",
              "    </tr>\n",
              "    <tr>\n",
              "      <th>183613</th>\n",
              "      <td>2023-11-23 03:44:54.133</td>\n",
              "      <td>be4a70fee4913f3cf56b1c64228bcdb5</td>\n",
              "      <td>b1321d3db08e86d3</td>\n",
              "      <td>73e8e9281d421a7d</td>\n",
              "      <td>quoteservice</td>\n",
              "      <td>calculate-quote</td>\n",
              "      <td>5401</td>\n",
              "    </tr>\n",
              "    <tr>\n",
              "      <th>183614</th>\n",
              "      <td>2023-11-23 03:44:54.138</td>\n",
              "      <td>be4a70fee4913f3cf56b1c64228bcdb5</td>\n",
              "      <td>ae64d281880bfed7</td>\n",
              "      <td>2f7d3638d3ad3342</td>\n",
              "      <td>currencyservice</td>\n",
              "      <td>CurrencyService/Convert</td>\n",
              "      <td>30845</td>\n",
              "    </tr>\n",
              "  </tbody>\n",
              "</table>\n",
              "<p>183615 rows × 7 columns</p>\n",
              "</div>\n",
              "    <div class=\"colab-df-buttons\">\n",
              "\n",
              "  <div class=\"colab-df-container\">\n",
              "    <button class=\"colab-df-convert\" onclick=\"convertToInteractive('df-8c0a7d7b-635c-46fe-8aa5-04393cf67005')\"\n",
              "            title=\"Convert this dataframe to an interactive table.\"\n",
              "            style=\"display:none;\">\n",
              "\n",
              "  <svg xmlns=\"http://www.w3.org/2000/svg\" height=\"24px\" viewBox=\"0 -960 960 960\">\n",
              "    <path d=\"M120-120v-720h720v720H120Zm60-500h600v-160H180v160Zm220 220h160v-160H400v160Zm0 220h160v-160H400v160ZM180-400h160v-160H180v160Zm440 0h160v-160H620v160ZM180-180h160v-160H180v160Zm440 0h160v-160H620v160Z\"/>\n",
              "  </svg>\n",
              "    </button>\n",
              "\n",
              "  <style>\n",
              "    .colab-df-container {\n",
              "      display:flex;\n",
              "      gap: 12px;\n",
              "    }\n",
              "\n",
              "    .colab-df-convert {\n",
              "      background-color: #E8F0FE;\n",
              "      border: none;\n",
              "      border-radius: 50%;\n",
              "      cursor: pointer;\n",
              "      display: none;\n",
              "      fill: #1967D2;\n",
              "      height: 32px;\n",
              "      padding: 0 0 0 0;\n",
              "      width: 32px;\n",
              "    }\n",
              "\n",
              "    .colab-df-convert:hover {\n",
              "      background-color: #E2EBFA;\n",
              "      box-shadow: 0px 1px 2px rgba(60, 64, 67, 0.3), 0px 1px 3px 1px rgba(60, 64, 67, 0.15);\n",
              "      fill: #174EA6;\n",
              "    }\n",
              "\n",
              "    .colab-df-buttons div {\n",
              "      margin-bottom: 4px;\n",
              "    }\n",
              "\n",
              "    [theme=dark] .colab-df-convert {\n",
              "      background-color: #3B4455;\n",
              "      fill: #D2E3FC;\n",
              "    }\n",
              "\n",
              "    [theme=dark] .colab-df-convert:hover {\n",
              "      background-color: #434B5C;\n",
              "      box-shadow: 0px 1px 3px 1px rgba(0, 0, 0, 0.15);\n",
              "      filter: drop-shadow(0px 1px 2px rgba(0, 0, 0, 0.3));\n",
              "      fill: #FFFFFF;\n",
              "    }\n",
              "  </style>\n",
              "\n",
              "    <script>\n",
              "      const buttonEl =\n",
              "        document.querySelector('#df-8c0a7d7b-635c-46fe-8aa5-04393cf67005 button.colab-df-convert');\n",
              "      buttonEl.style.display =\n",
              "        google.colab.kernel.accessAllowed ? 'block' : 'none';\n",
              "\n",
              "      async function convertToInteractive(key) {\n",
              "        const element = document.querySelector('#df-8c0a7d7b-635c-46fe-8aa5-04393cf67005');\n",
              "        const dataTable =\n",
              "          await google.colab.kernel.invokeFunction('convertToInteractive',\n",
              "                                                    [key], {});\n",
              "        if (!dataTable) return;\n",
              "\n",
              "        const docLinkHtml = 'Like what you see? Visit the ' +\n",
              "          '<a target=\"_blank\" href=https://colab.research.google.com/notebooks/data_table.ipynb>data table notebook</a>'\n",
              "          + ' to learn more about interactive tables.';\n",
              "        element.innerHTML = '';\n",
              "        dataTable['output_type'] = 'display_data';\n",
              "        await google.colab.output.renderOutput(dataTable, element);\n",
              "        const docLink = document.createElement('div');\n",
              "        docLink.innerHTML = docLinkHtml;\n",
              "        element.appendChild(docLink);\n",
              "      }\n",
              "    </script>\n",
              "  </div>\n",
              "\n",
              "\n",
              "<div id=\"df-f08d02c2-4720-47ed-842c-153d517e1206\">\n",
              "  <button class=\"colab-df-quickchart\" onclick=\"quickchart('df-f08d02c2-4720-47ed-842c-153d517e1206')\"\n",
              "            title=\"Suggest charts\"\n",
              "            style=\"display:none;\">\n",
              "\n",
              "<svg xmlns=\"http://www.w3.org/2000/svg\" height=\"24px\"viewBox=\"0 0 24 24\"\n",
              "     width=\"24px\">\n",
              "    <g>\n",
              "        <path d=\"M19 3H5c-1.1 0-2 .9-2 2v14c0 1.1.9 2 2 2h14c1.1 0 2-.9 2-2V5c0-1.1-.9-2-2-2zM9 17H7v-7h2v7zm4 0h-2V7h2v10zm4 0h-2v-4h2v4z\"/>\n",
              "    </g>\n",
              "</svg>\n",
              "  </button>\n",
              "\n",
              "<style>\n",
              "  .colab-df-quickchart {\n",
              "      --bg-color: #E8F0FE;\n",
              "      --fill-color: #1967D2;\n",
              "      --hover-bg-color: #E2EBFA;\n",
              "      --hover-fill-color: #174EA6;\n",
              "      --disabled-fill-color: #AAA;\n",
              "      --disabled-bg-color: #DDD;\n",
              "  }\n",
              "\n",
              "  [theme=dark] .colab-df-quickchart {\n",
              "      --bg-color: #3B4455;\n",
              "      --fill-color: #D2E3FC;\n",
              "      --hover-bg-color: #434B5C;\n",
              "      --hover-fill-color: #FFFFFF;\n",
              "      --disabled-bg-color: #3B4455;\n",
              "      --disabled-fill-color: #666;\n",
              "  }\n",
              "\n",
              "  .colab-df-quickchart {\n",
              "    background-color: var(--bg-color);\n",
              "    border: none;\n",
              "    border-radius: 50%;\n",
              "    cursor: pointer;\n",
              "    display: none;\n",
              "    fill: var(--fill-color);\n",
              "    height: 32px;\n",
              "    padding: 0;\n",
              "    width: 32px;\n",
              "  }\n",
              "\n",
              "  .colab-df-quickchart:hover {\n",
              "    background-color: var(--hover-bg-color);\n",
              "    box-shadow: 0 1px 2px rgba(60, 64, 67, 0.3), 0 1px 3px 1px rgba(60, 64, 67, 0.15);\n",
              "    fill: var(--button-hover-fill-color);\n",
              "  }\n",
              "\n",
              "  .colab-df-quickchart-complete:disabled,\n",
              "  .colab-df-quickchart-complete:disabled:hover {\n",
              "    background-color: var(--disabled-bg-color);\n",
              "    fill: var(--disabled-fill-color);\n",
              "    box-shadow: none;\n",
              "  }\n",
              "\n",
              "  .colab-df-spinner {\n",
              "    border: 2px solid var(--fill-color);\n",
              "    border-color: transparent;\n",
              "    border-bottom-color: var(--fill-color);\n",
              "    animation:\n",
              "      spin 1s steps(1) infinite;\n",
              "  }\n",
              "\n",
              "  @keyframes spin {\n",
              "    0% {\n",
              "      border-color: transparent;\n",
              "      border-bottom-color: var(--fill-color);\n",
              "      border-left-color: var(--fill-color);\n",
              "    }\n",
              "    20% {\n",
              "      border-color: transparent;\n",
              "      border-left-color: var(--fill-color);\n",
              "      border-top-color: var(--fill-color);\n",
              "    }\n",
              "    30% {\n",
              "      border-color: transparent;\n",
              "      border-left-color: var(--fill-color);\n",
              "      border-top-color: var(--fill-color);\n",
              "      border-right-color: var(--fill-color);\n",
              "    }\n",
              "    40% {\n",
              "      border-color: transparent;\n",
              "      border-right-color: var(--fill-color);\n",
              "      border-top-color: var(--fill-color);\n",
              "    }\n",
              "    60% {\n",
              "      border-color: transparent;\n",
              "      border-right-color: var(--fill-color);\n",
              "    }\n",
              "    80% {\n",
              "      border-color: transparent;\n",
              "      border-right-color: var(--fill-color);\n",
              "      border-bottom-color: var(--fill-color);\n",
              "    }\n",
              "    90% {\n",
              "      border-color: transparent;\n",
              "      border-bottom-color: var(--fill-color);\n",
              "    }\n",
              "  }\n",
              "</style>\n",
              "\n",
              "  <script>\n",
              "    async function quickchart(key) {\n",
              "      const quickchartButtonEl =\n",
              "        document.querySelector('#' + key + ' button');\n",
              "      quickchartButtonEl.disabled = true;  // To prevent multiple clicks.\n",
              "      quickchartButtonEl.classList.add('colab-df-spinner');\n",
              "      try {\n",
              "        const charts = await google.colab.kernel.invokeFunction(\n",
              "            'suggestCharts', [key], {});\n",
              "      } catch (error) {\n",
              "        console.error('Error during call to suggestCharts:', error);\n",
              "      }\n",
              "      quickchartButtonEl.classList.remove('colab-df-spinner');\n",
              "      quickchartButtonEl.classList.add('colab-df-quickchart-complete');\n",
              "    }\n",
              "    (() => {\n",
              "      let quickchartButtonEl =\n",
              "        document.querySelector('#df-f08d02c2-4720-47ed-842c-153d517e1206 button');\n",
              "      quickchartButtonEl.style.display =\n",
              "        google.colab.kernel.accessAllowed ? 'block' : 'none';\n",
              "    })();\n",
              "  </script>\n",
              "</div>\n",
              "\n",
              "  <div id=\"id_065ede92-b9c6-4513-9277-248745f5455e\">\n",
              "    <style>\n",
              "      .colab-df-generate {\n",
              "        background-color: #E8F0FE;\n",
              "        border: none;\n",
              "        border-radius: 50%;\n",
              "        cursor: pointer;\n",
              "        display: none;\n",
              "        fill: #1967D2;\n",
              "        height: 32px;\n",
              "        padding: 0 0 0 0;\n",
              "        width: 32px;\n",
              "      }\n",
              "\n",
              "      .colab-df-generate:hover {\n",
              "        background-color: #E2EBFA;\n",
              "        box-shadow: 0px 1px 2px rgba(60, 64, 67, 0.3), 0px 1px 3px 1px rgba(60, 64, 67, 0.15);\n",
              "        fill: #174EA6;\n",
              "      }\n",
              "\n",
              "      [theme=dark] .colab-df-generate {\n",
              "        background-color: #3B4455;\n",
              "        fill: #D2E3FC;\n",
              "      }\n",
              "\n",
              "      [theme=dark] .colab-df-generate:hover {\n",
              "        background-color: #434B5C;\n",
              "        box-shadow: 0px 1px 3px 1px rgba(0, 0, 0, 0.15);\n",
              "        filter: drop-shadow(0px 1px 2px rgba(0, 0, 0, 0.3));\n",
              "        fill: #FFFFFF;\n",
              "      }\n",
              "    </style>\n",
              "    <button class=\"colab-df-generate\" onclick=\"generateWithVariable('df')\"\n",
              "            title=\"Generate code using this dataframe.\"\n",
              "            style=\"display:none;\">\n",
              "\n",
              "  <svg xmlns=\"http://www.w3.org/2000/svg\" height=\"24px\"viewBox=\"0 0 24 24\"\n",
              "       width=\"24px\">\n",
              "    <path d=\"M7,19H8.4L18.45,9,17,7.55,7,17.6ZM5,21V16.75L18.45,3.32a2,2,0,0,1,2.83,0l1.4,1.43a1.91,1.91,0,0,1,.58,1.4,1.91,1.91,0,0,1-.58,1.4L9.25,21ZM18.45,9,17,7.55Zm-12,3A5.31,5.31,0,0,0,4.9,8.1,5.31,5.31,0,0,0,1,6.5,5.31,5.31,0,0,0,4.9,4.9,5.31,5.31,0,0,0,6.5,1,5.31,5.31,0,0,0,8.1,4.9,5.31,5.31,0,0,0,12,6.5,5.46,5.46,0,0,0,6.5,12Z\"/>\n",
              "  </svg>\n",
              "    </button>\n",
              "    <script>\n",
              "      (() => {\n",
              "      const buttonEl =\n",
              "        document.querySelector('#id_065ede92-b9c6-4513-9277-248745f5455e button.colab-df-generate');\n",
              "      buttonEl.style.display =\n",
              "        google.colab.kernel.accessAllowed ? 'block' : 'none';\n",
              "\n",
              "      buttonEl.onclick = () => {\n",
              "        google.colab.notebook.generateWithVariable('df');\n",
              "      }\n",
              "      })();\n",
              "    </script>\n",
              "  </div>\n",
              "\n",
              "    </div>\n",
              "  </div>\n"
            ],
            "text/plain": [
              "                     Timestamp                           traceID  \\\n",
              "0      2023-11-23 04:42:32.707  d8d992638d73274d0a6710a1f9d17f93   \n",
              "1      2023-11-23 04:42:32.707  d8d992638d73274d0a6710a1f9d17f93   \n",
              "2      2023-11-23 04:42:33.930  fab7ab123d61c8d7d71062fc44ffb87e   \n",
              "3      2023-11-23 04:42:36.928  39a34f6b196aa69cdd5364bfc73b35b4   \n",
              "4      2023-11-23 04:42:39.924  61e0ffa4c695a832b05f406999cf319c   \n",
              "...                        ...                               ...   \n",
              "183610 2023-11-23 03:44:52.018  cc3f285a2ef094d4ba7582b1d5d47882   \n",
              "183611 2023-11-23 03:44:54.128  be4a70fee4913f3cf56b1c64228bcdb5   \n",
              "183612 2023-11-23 03:44:54.130  be4a70fee4913f3cf56b1c64228bcdb5   \n",
              "183613 2023-11-23 03:44:54.133  be4a70fee4913f3cf56b1c64228bcdb5   \n",
              "183614 2023-11-23 03:44:54.138  be4a70fee4913f3cf56b1c64228bcdb5   \n",
              "\n",
              "                  spanID      parentSpanID            serviceName  \\\n",
              "0       0d87dcf5ea5aeaab               NaN     featureflagservice   \n",
              "1       bd0a6f75f1a901b7  0d87dcf5ea5aeaab     featureflagservice   \n",
              "2       fe4acd4c8a763d24               NaN         frontend-proxy   \n",
              "3       b3c68f9f4a73524b               NaN         frontend-proxy   \n",
              "4       b204b9bce1b3ac35               NaN         frontend-proxy   \n",
              "...                  ...               ...                    ...   \n",
              "183610  ebf0df7adc41ca4d  53e18cd5258047f5  recommendationservice   \n",
              "183611  0975afe20d7368d2  7a1c6f8d9bff070f        currencyservice   \n",
              "183612  96139b9d0d16639a  8f0b4f79ec0d0005        currencyservice   \n",
              "183613  b1321d3db08e86d3  73e8e9281d421a7d           quoteservice   \n",
              "183614  ae64d281880bfed7  2f7d3638d3ad3342        currencyservice   \n",
              "\n",
              "                                                Name  durationNano  \n",
              "0                                                  /        887477  \n",
              "1         featureflagservice.repo.query:featureflags        481634  \n",
              "2                                            ingress        213000  \n",
              "3                                            ingress        602000  \n",
              "4                                            ingress        556000  \n",
              "...                                              ...           ...  \n",
              "183610  /oteldemo.ProductCatalogService/ListProducts       1016311  \n",
              "183611                       CurrencyService/Convert         34953  \n",
              "183612                       CurrencyService/Convert         25660  \n",
              "183613                               calculate-quote          5401  \n",
              "183614                       CurrencyService/Convert         30845  \n",
              "\n",
              "[183615 rows x 7 columns]"
            ]
          },
          "execution_count": 5,
          "metadata": {},
          "output_type": "execute_result"
        }
      ],
      "source": [
        "## import dataset\n",
        "df=pd.read_excel(\"/traces_dataset.xlsx\")\n",
        "df"
      ]
    },
    {
      "cell_type": "code",
      "execution_count": null,
      "metadata": {
        "colab": {
          "base_uri": "https://localhost:8080/"
        },
        "id": "sX2gm-LX2H87",
        "outputId": "31f6d6ef-1f6d-40ae-ec04-524718c7e1e9"
      },
      "outputs": [
        {
          "data": {
            "text/plain": [
              "(183615, 7)"
            ]
          },
          "execution_count": 5,
          "metadata": {},
          "output_type": "execute_result"
        }
      ],
      "source": [
        "## dimension of our dataset\n",
        "df.shape"
      ]
    },
    {
      "cell_type": "markdown",
      "metadata": {
        "id": "wqjvUVJ-38HS"
      },
      "source": [
        "There are 183615 rows and 7 columns in our dataset"
      ]
    },
    {
      "cell_type": "code",
      "execution_count": null,
      "metadata": {
        "colab": {
          "base_uri": "https://localhost:8080/"
        },
        "id": "a3hq-4ar2IKS",
        "outputId": "82fe64ac-c3f7-4382-b546-0f182e81f39a"
      },
      "outputs": [
        {
          "name": "stdout",
          "output_type": "stream",
          "text": [
            "<class 'pandas.core.frame.DataFrame'>\n",
            "RangeIndex: 183615 entries, 0 to 183614\n",
            "Data columns (total 7 columns):\n",
            " #   Column        Non-Null Count   Dtype         \n",
            "---  ------        --------------   -----         \n",
            " 0   Timestamp     183615 non-null  datetime64[ns]\n",
            " 1   traceID       183615 non-null  object        \n",
            " 2   spanID        183615 non-null  object        \n",
            " 3   parentSpanID  141834 non-null  object        \n",
            " 4   serviceName   183615 non-null  object        \n",
            " 5   Name          183615 non-null  object        \n",
            " 6   durationNano  183615 non-null  int64         \n",
            "dtypes: datetime64[ns](1), int64(1), object(5)\n",
            "memory usage: 9.8+ MB\n"
          ]
        }
      ],
      "source": [
        "##information regarding our dataset\n",
        "df.info()"
      ]
    },
    {
      "cell_type": "markdown",
      "metadata": {
        "id": "K0y4Jri54S00"
      },
      "source": [
        "1)From above we can see that there are 4 object columns,1 datetime column and 1 integer column.\n",
        "\n",
        "2)There are null values only in one column , parentSpanID ."
      ]
    },
    {
      "cell_type": "code",
      "execution_count": null,
      "metadata": {
        "colab": {
          "base_uri": "https://localhost:8080/",
          "height": 293
        },
        "id": "TW_m7FVF2IM7",
        "outputId": "68f393bd-baa8-4faa-de70-80727ff88b1c"
      },
      "outputs": [
        {
          "data": {
            "application/vnd.google.colaboratory.intrinsic+json": {
              "type": "dataframe",
              "variable_name": "df"
            },
            "text/html": [
              "\n",
              "  <div id=\"df-85042af8-44d9-4b62-b6ae-794fa4d65c94\" class=\"colab-df-container\">\n",
              "    <div>\n",
              "<style scoped>\n",
              "    .dataframe tbody tr th:only-of-type {\n",
              "        vertical-align: middle;\n",
              "    }\n",
              "\n",
              "    .dataframe tbody tr th {\n",
              "        vertical-align: top;\n",
              "    }\n",
              "\n",
              "    .dataframe thead th {\n",
              "        text-align: right;\n",
              "    }\n",
              "</style>\n",
              "<table border=\"1\" class=\"dataframe\">\n",
              "  <thead>\n",
              "    <tr style=\"text-align: right;\">\n",
              "      <th></th>\n",
              "      <th>Timestamp</th>\n",
              "      <th>traceID</th>\n",
              "      <th>spanID</th>\n",
              "      <th>parentSpanID</th>\n",
              "      <th>serviceName</th>\n",
              "      <th>Name</th>\n",
              "      <th>durationNano</th>\n",
              "    </tr>\n",
              "  </thead>\n",
              "  <tbody>\n",
              "    <tr>\n",
              "      <th>0</th>\n",
              "      <td>2023-11-23 04:42:32.707</td>\n",
              "      <td>d8d992638d73274d0a6710a1f9d17f93</td>\n",
              "      <td>0d87dcf5ea5aeaab</td>\n",
              "      <td>NaN</td>\n",
              "      <td>featureflagservice</td>\n",
              "      <td>/</td>\n",
              "      <td>887477</td>\n",
              "    </tr>\n",
              "    <tr>\n",
              "      <th>1</th>\n",
              "      <td>2023-11-23 04:42:32.707</td>\n",
              "      <td>d8d992638d73274d0a6710a1f9d17f93</td>\n",
              "      <td>bd0a6f75f1a901b7</td>\n",
              "      <td>0d87dcf5ea5aeaab</td>\n",
              "      <td>featureflagservice</td>\n",
              "      <td>featureflagservice.repo.query:featureflags</td>\n",
              "      <td>481634</td>\n",
              "    </tr>\n",
              "    <tr>\n",
              "      <th>2</th>\n",
              "      <td>2023-11-23 04:42:33.930</td>\n",
              "      <td>fab7ab123d61c8d7d71062fc44ffb87e</td>\n",
              "      <td>fe4acd4c8a763d24</td>\n",
              "      <td>NaN</td>\n",
              "      <td>frontend-proxy</td>\n",
              "      <td>ingress</td>\n",
              "      <td>213000</td>\n",
              "    </tr>\n",
              "    <tr>\n",
              "      <th>3</th>\n",
              "      <td>2023-11-23 04:42:36.928</td>\n",
              "      <td>39a34f6b196aa69cdd5364bfc73b35b4</td>\n",
              "      <td>b3c68f9f4a73524b</td>\n",
              "      <td>NaN</td>\n",
              "      <td>frontend-proxy</td>\n",
              "      <td>ingress</td>\n",
              "      <td>602000</td>\n",
              "    </tr>\n",
              "    <tr>\n",
              "      <th>4</th>\n",
              "      <td>2023-11-23 04:42:39.924</td>\n",
              "      <td>61e0ffa4c695a832b05f406999cf319c</td>\n",
              "      <td>b204b9bce1b3ac35</td>\n",
              "      <td>NaN</td>\n",
              "      <td>frontend-proxy</td>\n",
              "      <td>ingress</td>\n",
              "      <td>556000</td>\n",
              "    </tr>\n",
              "  </tbody>\n",
              "</table>\n",
              "</div>\n",
              "    <div class=\"colab-df-buttons\">\n",
              "\n",
              "  <div class=\"colab-df-container\">\n",
              "    <button class=\"colab-df-convert\" onclick=\"convertToInteractive('df-85042af8-44d9-4b62-b6ae-794fa4d65c94')\"\n",
              "            title=\"Convert this dataframe to an interactive table.\"\n",
              "            style=\"display:none;\">\n",
              "\n",
              "  <svg xmlns=\"http://www.w3.org/2000/svg\" height=\"24px\" viewBox=\"0 -960 960 960\">\n",
              "    <path d=\"M120-120v-720h720v720H120Zm60-500h600v-160H180v160Zm220 220h160v-160H400v160Zm0 220h160v-160H400v160ZM180-400h160v-160H180v160Zm440 0h160v-160H620v160ZM180-180h160v-160H180v160Zm440 0h160v-160H620v160Z\"/>\n",
              "  </svg>\n",
              "    </button>\n",
              "\n",
              "  <style>\n",
              "    .colab-df-container {\n",
              "      display:flex;\n",
              "      gap: 12px;\n",
              "    }\n",
              "\n",
              "    .colab-df-convert {\n",
              "      background-color: #E8F0FE;\n",
              "      border: none;\n",
              "      border-radius: 50%;\n",
              "      cursor: pointer;\n",
              "      display: none;\n",
              "      fill: #1967D2;\n",
              "      height: 32px;\n",
              "      padding: 0 0 0 0;\n",
              "      width: 32px;\n",
              "    }\n",
              "\n",
              "    .colab-df-convert:hover {\n",
              "      background-color: #E2EBFA;\n",
              "      box-shadow: 0px 1px 2px rgba(60, 64, 67, 0.3), 0px 1px 3px 1px rgba(60, 64, 67, 0.15);\n",
              "      fill: #174EA6;\n",
              "    }\n",
              "\n",
              "    .colab-df-buttons div {\n",
              "      margin-bottom: 4px;\n",
              "    }\n",
              "\n",
              "    [theme=dark] .colab-df-convert {\n",
              "      background-color: #3B4455;\n",
              "      fill: #D2E3FC;\n",
              "    }\n",
              "\n",
              "    [theme=dark] .colab-df-convert:hover {\n",
              "      background-color: #434B5C;\n",
              "      box-shadow: 0px 1px 3px 1px rgba(0, 0, 0, 0.15);\n",
              "      filter: drop-shadow(0px 1px 2px rgba(0, 0, 0, 0.3));\n",
              "      fill: #FFFFFF;\n",
              "    }\n",
              "  </style>\n",
              "\n",
              "    <script>\n",
              "      const buttonEl =\n",
              "        document.querySelector('#df-85042af8-44d9-4b62-b6ae-794fa4d65c94 button.colab-df-convert');\n",
              "      buttonEl.style.display =\n",
              "        google.colab.kernel.accessAllowed ? 'block' : 'none';\n",
              "\n",
              "      async function convertToInteractive(key) {\n",
              "        const element = document.querySelector('#df-85042af8-44d9-4b62-b6ae-794fa4d65c94');\n",
              "        const dataTable =\n",
              "          await google.colab.kernel.invokeFunction('convertToInteractive',\n",
              "                                                    [key], {});\n",
              "        if (!dataTable) return;\n",
              "\n",
              "        const docLinkHtml = 'Like what you see? Visit the ' +\n",
              "          '<a target=\"_blank\" href=https://colab.research.google.com/notebooks/data_table.ipynb>data table notebook</a>'\n",
              "          + ' to learn more about interactive tables.';\n",
              "        element.innerHTML = '';\n",
              "        dataTable['output_type'] = 'display_data';\n",
              "        await google.colab.output.renderOutput(dataTable, element);\n",
              "        const docLink = document.createElement('div');\n",
              "        docLink.innerHTML = docLinkHtml;\n",
              "        element.appendChild(docLink);\n",
              "      }\n",
              "    </script>\n",
              "  </div>\n",
              "\n",
              "\n",
              "<div id=\"df-bb9898d3-09ba-4a18-a5de-077d01625f83\">\n",
              "  <button class=\"colab-df-quickchart\" onclick=\"quickchart('df-bb9898d3-09ba-4a18-a5de-077d01625f83')\"\n",
              "            title=\"Suggest charts\"\n",
              "            style=\"display:none;\">\n",
              "\n",
              "<svg xmlns=\"http://www.w3.org/2000/svg\" height=\"24px\"viewBox=\"0 0 24 24\"\n",
              "     width=\"24px\">\n",
              "    <g>\n",
              "        <path d=\"M19 3H5c-1.1 0-2 .9-2 2v14c0 1.1.9 2 2 2h14c1.1 0 2-.9 2-2V5c0-1.1-.9-2-2-2zM9 17H7v-7h2v7zm4 0h-2V7h2v10zm4 0h-2v-4h2v4z\"/>\n",
              "    </g>\n",
              "</svg>\n",
              "  </button>\n",
              "\n",
              "<style>\n",
              "  .colab-df-quickchart {\n",
              "      --bg-color: #E8F0FE;\n",
              "      --fill-color: #1967D2;\n",
              "      --hover-bg-color: #E2EBFA;\n",
              "      --hover-fill-color: #174EA6;\n",
              "      --disabled-fill-color: #AAA;\n",
              "      --disabled-bg-color: #DDD;\n",
              "  }\n",
              "\n",
              "  [theme=dark] .colab-df-quickchart {\n",
              "      --bg-color: #3B4455;\n",
              "      --fill-color: #D2E3FC;\n",
              "      --hover-bg-color: #434B5C;\n",
              "      --hover-fill-color: #FFFFFF;\n",
              "      --disabled-bg-color: #3B4455;\n",
              "      --disabled-fill-color: #666;\n",
              "  }\n",
              "\n",
              "  .colab-df-quickchart {\n",
              "    background-color: var(--bg-color);\n",
              "    border: none;\n",
              "    border-radius: 50%;\n",
              "    cursor: pointer;\n",
              "    display: none;\n",
              "    fill: var(--fill-color);\n",
              "    height: 32px;\n",
              "    padding: 0;\n",
              "    width: 32px;\n",
              "  }\n",
              "\n",
              "  .colab-df-quickchart:hover {\n",
              "    background-color: var(--hover-bg-color);\n",
              "    box-shadow: 0 1px 2px rgba(60, 64, 67, 0.3), 0 1px 3px 1px rgba(60, 64, 67, 0.15);\n",
              "    fill: var(--button-hover-fill-color);\n",
              "  }\n",
              "\n",
              "  .colab-df-quickchart-complete:disabled,\n",
              "  .colab-df-quickchart-complete:disabled:hover {\n",
              "    background-color: var(--disabled-bg-color);\n",
              "    fill: var(--disabled-fill-color);\n",
              "    box-shadow: none;\n",
              "  }\n",
              "\n",
              "  .colab-df-spinner {\n",
              "    border: 2px solid var(--fill-color);\n",
              "    border-color: transparent;\n",
              "    border-bottom-color: var(--fill-color);\n",
              "    animation:\n",
              "      spin 1s steps(1) infinite;\n",
              "  }\n",
              "\n",
              "  @keyframes spin {\n",
              "    0% {\n",
              "      border-color: transparent;\n",
              "      border-bottom-color: var(--fill-color);\n",
              "      border-left-color: var(--fill-color);\n",
              "    }\n",
              "    20% {\n",
              "      border-color: transparent;\n",
              "      border-left-color: var(--fill-color);\n",
              "      border-top-color: var(--fill-color);\n",
              "    }\n",
              "    30% {\n",
              "      border-color: transparent;\n",
              "      border-left-color: var(--fill-color);\n",
              "      border-top-color: var(--fill-color);\n",
              "      border-right-color: var(--fill-color);\n",
              "    }\n",
              "    40% {\n",
              "      border-color: transparent;\n",
              "      border-right-color: var(--fill-color);\n",
              "      border-top-color: var(--fill-color);\n",
              "    }\n",
              "    60% {\n",
              "      border-color: transparent;\n",
              "      border-right-color: var(--fill-color);\n",
              "    }\n",
              "    80% {\n",
              "      border-color: transparent;\n",
              "      border-right-color: var(--fill-color);\n",
              "      border-bottom-color: var(--fill-color);\n",
              "    }\n",
              "    90% {\n",
              "      border-color: transparent;\n",
              "      border-bottom-color: var(--fill-color);\n",
              "    }\n",
              "  }\n",
              "</style>\n",
              "\n",
              "  <script>\n",
              "    async function quickchart(key) {\n",
              "      const quickchartButtonEl =\n",
              "        document.querySelector('#' + key + ' button');\n",
              "      quickchartButtonEl.disabled = true;  // To prevent multiple clicks.\n",
              "      quickchartButtonEl.classList.add('colab-df-spinner');\n",
              "      try {\n",
              "        const charts = await google.colab.kernel.invokeFunction(\n",
              "            'suggestCharts', [key], {});\n",
              "      } catch (error) {\n",
              "        console.error('Error during call to suggestCharts:', error);\n",
              "      }\n",
              "      quickchartButtonEl.classList.remove('colab-df-spinner');\n",
              "      quickchartButtonEl.classList.add('colab-df-quickchart-complete');\n",
              "    }\n",
              "    (() => {\n",
              "      let quickchartButtonEl =\n",
              "        document.querySelector('#df-bb9898d3-09ba-4a18-a5de-077d01625f83 button');\n",
              "      quickchartButtonEl.style.display =\n",
              "        google.colab.kernel.accessAllowed ? 'block' : 'none';\n",
              "    })();\n",
              "  </script>\n",
              "</div>\n",
              "\n",
              "    </div>\n",
              "  </div>\n"
            ],
            "text/plain": [
              "                Timestamp                           traceID            spanID  \\\n",
              "0 2023-11-23 04:42:32.707  d8d992638d73274d0a6710a1f9d17f93  0d87dcf5ea5aeaab   \n",
              "1 2023-11-23 04:42:32.707  d8d992638d73274d0a6710a1f9d17f93  bd0a6f75f1a901b7   \n",
              "2 2023-11-23 04:42:33.930  fab7ab123d61c8d7d71062fc44ffb87e  fe4acd4c8a763d24   \n",
              "3 2023-11-23 04:42:36.928  39a34f6b196aa69cdd5364bfc73b35b4  b3c68f9f4a73524b   \n",
              "4 2023-11-23 04:42:39.924  61e0ffa4c695a832b05f406999cf319c  b204b9bce1b3ac35   \n",
              "\n",
              "       parentSpanID         serviceName  \\\n",
              "0               NaN  featureflagservice   \n",
              "1  0d87dcf5ea5aeaab  featureflagservice   \n",
              "2               NaN      frontend-proxy   \n",
              "3               NaN      frontend-proxy   \n",
              "4               NaN      frontend-proxy   \n",
              "\n",
              "                                         Name  durationNano  \n",
              "0                                           /        887477  \n",
              "1  featureflagservice.repo.query:featureflags        481634  \n",
              "2                                     ingress        213000  \n",
              "3                                     ingress        602000  \n",
              "4                                     ingress        556000  "
            ]
          },
          "execution_count": 7,
          "metadata": {},
          "output_type": "execute_result"
        }
      ],
      "source": [
        "## first 5 rows\n",
        "df.head()"
      ]
    },
    {
      "cell_type": "code",
      "execution_count": null,
      "metadata": {
        "colab": {
          "base_uri": "https://localhost:8080/",
          "height": 313
        },
        "id": "dCxk5Ml12IPn",
        "outputId": "9298866b-612b-4967-dfde-e6019a9e58e5"
      },
      "outputs": [
        {
          "data": {
            "application/vnd.google.colaboratory.intrinsic+json": {
              "summary": "{\n  \"name\": \"df\",\n  \"rows\": 5,\n  \"fields\": [\n    {\n      \"column\": \"Timestamp\",\n      \"properties\": {\n        \"dtype\": \"date\",\n        \"min\": \"2023-11-23 03:44:52.018000\",\n        \"max\": \"2023-11-23 03:44:54.138000\",\n        \"num_unique_values\": 5,\n        \"samples\": [\n          \"2023-11-23 03:44:54.128000\",\n          \"2023-11-23 03:44:54.138000\",\n          \"2023-11-23 03:44:54.130000\"\n        ],\n        \"semantic_type\": \"\",\n        \"description\": \"\"\n      }\n    },\n    {\n      \"column\": \"traceID\",\n      \"properties\": {\n        \"dtype\": \"category\",\n        \"num_unique_values\": 2,\n        \"samples\": [\n          \"be4a70fee4913f3cf56b1c64228bcdb5\",\n          \"cc3f285a2ef094d4ba7582b1d5d47882\"\n        ],\n        \"semantic_type\": \"\",\n        \"description\": \"\"\n      }\n    },\n    {\n      \"column\": \"spanID\",\n      \"properties\": {\n        \"dtype\": \"string\",\n        \"num_unique_values\": 5,\n        \"samples\": [\n          \"0975afe20d7368d2\",\n          \"ae64d281880bfed7\"\n        ],\n        \"semantic_type\": \"\",\n        \"description\": \"\"\n      }\n    },\n    {\n      \"column\": \"parentSpanID\",\n      \"properties\": {\n        \"dtype\": \"string\",\n        \"num_unique_values\": 5,\n        \"samples\": [\n          \"7a1c6f8d9bff070f\",\n          \"2f7d3638d3ad3342\"\n        ],\n        \"semantic_type\": \"\",\n        \"description\": \"\"\n      }\n    },\n    {\n      \"column\": \"serviceName\",\n      \"properties\": {\n        \"dtype\": \"string\",\n        \"num_unique_values\": 3,\n        \"samples\": [\n          \"recommendationservice\",\n          \"currencyservice\"\n        ],\n        \"semantic_type\": \"\",\n        \"description\": \"\"\n      }\n    },\n    {\n      \"column\": \"Name\",\n      \"properties\": {\n        \"dtype\": \"string\",\n        \"num_unique_values\": 3,\n        \"samples\": [\n          \"/oteldemo.ProductCatalogService/ListProducts\",\n          \"CurrencyService/Convert\"\n        ],\n        \"semantic_type\": \"\",\n        \"description\": \"\"\n      }\n    },\n    {\n      \"column\": \"durationNano\",\n      \"properties\": {\n        \"dtype\": \"number\",\n        \"std\": 443824,\n        \"min\": 5401,\n        \"max\": 1016311,\n        \"num_unique_values\": 5,\n        \"samples\": [\n          34953,\n          30845\n        ],\n        \"semantic_type\": \"\",\n        \"description\": \"\"\n      }\n    }\n  ]\n}",
              "type": "dataframe"
            },
            "text/html": [
              "\n",
              "  <div id=\"df-be471cb8-b659-4655-aa72-911403d400be\" class=\"colab-df-container\">\n",
              "    <div>\n",
              "<style scoped>\n",
              "    .dataframe tbody tr th:only-of-type {\n",
              "        vertical-align: middle;\n",
              "    }\n",
              "\n",
              "    .dataframe tbody tr th {\n",
              "        vertical-align: top;\n",
              "    }\n",
              "\n",
              "    .dataframe thead th {\n",
              "        text-align: right;\n",
              "    }\n",
              "</style>\n",
              "<table border=\"1\" class=\"dataframe\">\n",
              "  <thead>\n",
              "    <tr style=\"text-align: right;\">\n",
              "      <th></th>\n",
              "      <th>Timestamp</th>\n",
              "      <th>traceID</th>\n",
              "      <th>spanID</th>\n",
              "      <th>parentSpanID</th>\n",
              "      <th>serviceName</th>\n",
              "      <th>Name</th>\n",
              "      <th>durationNano</th>\n",
              "    </tr>\n",
              "  </thead>\n",
              "  <tbody>\n",
              "    <tr>\n",
              "      <th>183610</th>\n",
              "      <td>2023-11-23 03:44:52.018</td>\n",
              "      <td>cc3f285a2ef094d4ba7582b1d5d47882</td>\n",
              "      <td>ebf0df7adc41ca4d</td>\n",
              "      <td>53e18cd5258047f5</td>\n",
              "      <td>recommendationservice</td>\n",
              "      <td>/oteldemo.ProductCatalogService/ListProducts</td>\n",
              "      <td>1016311</td>\n",
              "    </tr>\n",
              "    <tr>\n",
              "      <th>183611</th>\n",
              "      <td>2023-11-23 03:44:54.128</td>\n",
              "      <td>be4a70fee4913f3cf56b1c64228bcdb5</td>\n",
              "      <td>0975afe20d7368d2</td>\n",
              "      <td>7a1c6f8d9bff070f</td>\n",
              "      <td>currencyservice</td>\n",
              "      <td>CurrencyService/Convert</td>\n",
              "      <td>34953</td>\n",
              "    </tr>\n",
              "    <tr>\n",
              "      <th>183612</th>\n",
              "      <td>2023-11-23 03:44:54.130</td>\n",
              "      <td>be4a70fee4913f3cf56b1c64228bcdb5</td>\n",
              "      <td>96139b9d0d16639a</td>\n",
              "      <td>8f0b4f79ec0d0005</td>\n",
              "      <td>currencyservice</td>\n",
              "      <td>CurrencyService/Convert</td>\n",
              "      <td>25660</td>\n",
              "    </tr>\n",
              "    <tr>\n",
              "      <th>183613</th>\n",
              "      <td>2023-11-23 03:44:54.133</td>\n",
              "      <td>be4a70fee4913f3cf56b1c64228bcdb5</td>\n",
              "      <td>b1321d3db08e86d3</td>\n",
              "      <td>73e8e9281d421a7d</td>\n",
              "      <td>quoteservice</td>\n",
              "      <td>calculate-quote</td>\n",
              "      <td>5401</td>\n",
              "    </tr>\n",
              "    <tr>\n",
              "      <th>183614</th>\n",
              "      <td>2023-11-23 03:44:54.138</td>\n",
              "      <td>be4a70fee4913f3cf56b1c64228bcdb5</td>\n",
              "      <td>ae64d281880bfed7</td>\n",
              "      <td>2f7d3638d3ad3342</td>\n",
              "      <td>currencyservice</td>\n",
              "      <td>CurrencyService/Convert</td>\n",
              "      <td>30845</td>\n",
              "    </tr>\n",
              "  </tbody>\n",
              "</table>\n",
              "</div>\n",
              "    <div class=\"colab-df-buttons\">\n",
              "\n",
              "  <div class=\"colab-df-container\">\n",
              "    <button class=\"colab-df-convert\" onclick=\"convertToInteractive('df-be471cb8-b659-4655-aa72-911403d400be')\"\n",
              "            title=\"Convert this dataframe to an interactive table.\"\n",
              "            style=\"display:none;\">\n",
              "\n",
              "  <svg xmlns=\"http://www.w3.org/2000/svg\" height=\"24px\" viewBox=\"0 -960 960 960\">\n",
              "    <path d=\"M120-120v-720h720v720H120Zm60-500h600v-160H180v160Zm220 220h160v-160H400v160Zm0 220h160v-160H400v160ZM180-400h160v-160H180v160Zm440 0h160v-160H620v160ZM180-180h160v-160H180v160Zm440 0h160v-160H620v160Z\"/>\n",
              "  </svg>\n",
              "    </button>\n",
              "\n",
              "  <style>\n",
              "    .colab-df-container {\n",
              "      display:flex;\n",
              "      gap: 12px;\n",
              "    }\n",
              "\n",
              "    .colab-df-convert {\n",
              "      background-color: #E8F0FE;\n",
              "      border: none;\n",
              "      border-radius: 50%;\n",
              "      cursor: pointer;\n",
              "      display: none;\n",
              "      fill: #1967D2;\n",
              "      height: 32px;\n",
              "      padding: 0 0 0 0;\n",
              "      width: 32px;\n",
              "    }\n",
              "\n",
              "    .colab-df-convert:hover {\n",
              "      background-color: #E2EBFA;\n",
              "      box-shadow: 0px 1px 2px rgba(60, 64, 67, 0.3), 0px 1px 3px 1px rgba(60, 64, 67, 0.15);\n",
              "      fill: #174EA6;\n",
              "    }\n",
              "\n",
              "    .colab-df-buttons div {\n",
              "      margin-bottom: 4px;\n",
              "    }\n",
              "\n",
              "    [theme=dark] .colab-df-convert {\n",
              "      background-color: #3B4455;\n",
              "      fill: #D2E3FC;\n",
              "    }\n",
              "\n",
              "    [theme=dark] .colab-df-convert:hover {\n",
              "      background-color: #434B5C;\n",
              "      box-shadow: 0px 1px 3px 1px rgba(0, 0, 0, 0.15);\n",
              "      filter: drop-shadow(0px 1px 2px rgba(0, 0, 0, 0.3));\n",
              "      fill: #FFFFFF;\n",
              "    }\n",
              "  </style>\n",
              "\n",
              "    <script>\n",
              "      const buttonEl =\n",
              "        document.querySelector('#df-be471cb8-b659-4655-aa72-911403d400be button.colab-df-convert');\n",
              "      buttonEl.style.display =\n",
              "        google.colab.kernel.accessAllowed ? 'block' : 'none';\n",
              "\n",
              "      async function convertToInteractive(key) {\n",
              "        const element = document.querySelector('#df-be471cb8-b659-4655-aa72-911403d400be');\n",
              "        const dataTable =\n",
              "          await google.colab.kernel.invokeFunction('convertToInteractive',\n",
              "                                                    [key], {});\n",
              "        if (!dataTable) return;\n",
              "\n",
              "        const docLinkHtml = 'Like what you see? Visit the ' +\n",
              "          '<a target=\"_blank\" href=https://colab.research.google.com/notebooks/data_table.ipynb>data table notebook</a>'\n",
              "          + ' to learn more about interactive tables.';\n",
              "        element.innerHTML = '';\n",
              "        dataTable['output_type'] = 'display_data';\n",
              "        await google.colab.output.renderOutput(dataTable, element);\n",
              "        const docLink = document.createElement('div');\n",
              "        docLink.innerHTML = docLinkHtml;\n",
              "        element.appendChild(docLink);\n",
              "      }\n",
              "    </script>\n",
              "  </div>\n",
              "\n",
              "\n",
              "<div id=\"df-e8ace012-3d50-464c-887c-0b198d04dea7\">\n",
              "  <button class=\"colab-df-quickchart\" onclick=\"quickchart('df-e8ace012-3d50-464c-887c-0b198d04dea7')\"\n",
              "            title=\"Suggest charts\"\n",
              "            style=\"display:none;\">\n",
              "\n",
              "<svg xmlns=\"http://www.w3.org/2000/svg\" height=\"24px\"viewBox=\"0 0 24 24\"\n",
              "     width=\"24px\">\n",
              "    <g>\n",
              "        <path d=\"M19 3H5c-1.1 0-2 .9-2 2v14c0 1.1.9 2 2 2h14c1.1 0 2-.9 2-2V5c0-1.1-.9-2-2-2zM9 17H7v-7h2v7zm4 0h-2V7h2v10zm4 0h-2v-4h2v4z\"/>\n",
              "    </g>\n",
              "</svg>\n",
              "  </button>\n",
              "\n",
              "<style>\n",
              "  .colab-df-quickchart {\n",
              "      --bg-color: #E8F0FE;\n",
              "      --fill-color: #1967D2;\n",
              "      --hover-bg-color: #E2EBFA;\n",
              "      --hover-fill-color: #174EA6;\n",
              "      --disabled-fill-color: #AAA;\n",
              "      --disabled-bg-color: #DDD;\n",
              "  }\n",
              "\n",
              "  [theme=dark] .colab-df-quickchart {\n",
              "      --bg-color: #3B4455;\n",
              "      --fill-color: #D2E3FC;\n",
              "      --hover-bg-color: #434B5C;\n",
              "      --hover-fill-color: #FFFFFF;\n",
              "      --disabled-bg-color: #3B4455;\n",
              "      --disabled-fill-color: #666;\n",
              "  }\n",
              "\n",
              "  .colab-df-quickchart {\n",
              "    background-color: var(--bg-color);\n",
              "    border: none;\n",
              "    border-radius: 50%;\n",
              "    cursor: pointer;\n",
              "    display: none;\n",
              "    fill: var(--fill-color);\n",
              "    height: 32px;\n",
              "    padding: 0;\n",
              "    width: 32px;\n",
              "  }\n",
              "\n",
              "  .colab-df-quickchart:hover {\n",
              "    background-color: var(--hover-bg-color);\n",
              "    box-shadow: 0 1px 2px rgba(60, 64, 67, 0.3), 0 1px 3px 1px rgba(60, 64, 67, 0.15);\n",
              "    fill: var(--button-hover-fill-color);\n",
              "  }\n",
              "\n",
              "  .colab-df-quickchart-complete:disabled,\n",
              "  .colab-df-quickchart-complete:disabled:hover {\n",
              "    background-color: var(--disabled-bg-color);\n",
              "    fill: var(--disabled-fill-color);\n",
              "    box-shadow: none;\n",
              "  }\n",
              "\n",
              "  .colab-df-spinner {\n",
              "    border: 2px solid var(--fill-color);\n",
              "    border-color: transparent;\n",
              "    border-bottom-color: var(--fill-color);\n",
              "    animation:\n",
              "      spin 1s steps(1) infinite;\n",
              "  }\n",
              "\n",
              "  @keyframes spin {\n",
              "    0% {\n",
              "      border-color: transparent;\n",
              "      border-bottom-color: var(--fill-color);\n",
              "      border-left-color: var(--fill-color);\n",
              "    }\n",
              "    20% {\n",
              "      border-color: transparent;\n",
              "      border-left-color: var(--fill-color);\n",
              "      border-top-color: var(--fill-color);\n",
              "    }\n",
              "    30% {\n",
              "      border-color: transparent;\n",
              "      border-left-color: var(--fill-color);\n",
              "      border-top-color: var(--fill-color);\n",
              "      border-right-color: var(--fill-color);\n",
              "    }\n",
              "    40% {\n",
              "      border-color: transparent;\n",
              "      border-right-color: var(--fill-color);\n",
              "      border-top-color: var(--fill-color);\n",
              "    }\n",
              "    60% {\n",
              "      border-color: transparent;\n",
              "      border-right-color: var(--fill-color);\n",
              "    }\n",
              "    80% {\n",
              "      border-color: transparent;\n",
              "      border-right-color: var(--fill-color);\n",
              "      border-bottom-color: var(--fill-color);\n",
              "    }\n",
              "    90% {\n",
              "      border-color: transparent;\n",
              "      border-bottom-color: var(--fill-color);\n",
              "    }\n",
              "  }\n",
              "</style>\n",
              "\n",
              "  <script>\n",
              "    async function quickchart(key) {\n",
              "      const quickchartButtonEl =\n",
              "        document.querySelector('#' + key + ' button');\n",
              "      quickchartButtonEl.disabled = true;  // To prevent multiple clicks.\n",
              "      quickchartButtonEl.classList.add('colab-df-spinner');\n",
              "      try {\n",
              "        const charts = await google.colab.kernel.invokeFunction(\n",
              "            'suggestCharts', [key], {});\n",
              "      } catch (error) {\n",
              "        console.error('Error during call to suggestCharts:', error);\n",
              "      }\n",
              "      quickchartButtonEl.classList.remove('colab-df-spinner');\n",
              "      quickchartButtonEl.classList.add('colab-df-quickchart-complete');\n",
              "    }\n",
              "    (() => {\n",
              "      let quickchartButtonEl =\n",
              "        document.querySelector('#df-e8ace012-3d50-464c-887c-0b198d04dea7 button');\n",
              "      quickchartButtonEl.style.display =\n",
              "        google.colab.kernel.accessAllowed ? 'block' : 'none';\n",
              "    })();\n",
              "  </script>\n",
              "</div>\n",
              "\n",
              "    </div>\n",
              "  </div>\n"
            ],
            "text/plain": [
              "                     Timestamp                           traceID  \\\n",
              "183610 2023-11-23 03:44:52.018  cc3f285a2ef094d4ba7582b1d5d47882   \n",
              "183611 2023-11-23 03:44:54.128  be4a70fee4913f3cf56b1c64228bcdb5   \n",
              "183612 2023-11-23 03:44:54.130  be4a70fee4913f3cf56b1c64228bcdb5   \n",
              "183613 2023-11-23 03:44:54.133  be4a70fee4913f3cf56b1c64228bcdb5   \n",
              "183614 2023-11-23 03:44:54.138  be4a70fee4913f3cf56b1c64228bcdb5   \n",
              "\n",
              "                  spanID      parentSpanID            serviceName  \\\n",
              "183610  ebf0df7adc41ca4d  53e18cd5258047f5  recommendationservice   \n",
              "183611  0975afe20d7368d2  7a1c6f8d9bff070f        currencyservice   \n",
              "183612  96139b9d0d16639a  8f0b4f79ec0d0005        currencyservice   \n",
              "183613  b1321d3db08e86d3  73e8e9281d421a7d           quoteservice   \n",
              "183614  ae64d281880bfed7  2f7d3638d3ad3342        currencyservice   \n",
              "\n",
              "                                                Name  durationNano  \n",
              "183610  /oteldemo.ProductCatalogService/ListProducts       1016311  \n",
              "183611                       CurrencyService/Convert         34953  \n",
              "183612                       CurrencyService/Convert         25660  \n",
              "183613                               calculate-quote          5401  \n",
              "183614                       CurrencyService/Convert         30845  "
            ]
          },
          "execution_count": 8,
          "metadata": {},
          "output_type": "execute_result"
        }
      ],
      "source": [
        "##last 5 rows\n",
        "df.tail()"
      ]
    },
    {
      "cell_type": "code",
      "execution_count": null,
      "metadata": {
        "colab": {
          "base_uri": "https://localhost:8080/"
        },
        "id": "iRtoz9u42IaL",
        "outputId": "2386949e-aecf-4888-f0f2-27af98a4f72c"
      },
      "outputs": [
        {
          "data": {
            "text/plain": [
              "Index(['Timestamp', 'traceID', 'spanID', 'parentSpanID', 'serviceName', 'Name',\n",
              "       'durationNano'],\n",
              "      dtype='object')"
            ]
          },
          "execution_count": 11,
          "metadata": {},
          "output_type": "execute_result"
        }
      ],
      "source": [
        "## column names\n",
        "df.columns"
      ]
    },
    {
      "cell_type": "markdown",
      "metadata": {
        "id": "03UyizD6485n"
      },
      "source": [
        "\n",
        "- Timestamp : Time of occurrence of the event\n",
        "- traceID: Unique ID of an execution path through the system\n",
        "- spanID: Unique ID associated with execution of a logical unit\n",
        "- parentSpanID: spanID of parent span that called a given span\n",
        "- serviceName: Name of microservice associated with the span\n",
        "- Name: Method/function/endpoint name associated with the span\n",
        "- durationNano: Time taken in nanoseconds to execute the span\n",
        "\n",
        "\n"
      ]
    },
    {
      "cell_type": "code",
      "execution_count": null,
      "metadata": {
        "colab": {
          "base_uri": "https://localhost:8080/"
        },
        "id": "_GqPsyH92IdI",
        "outputId": "1d7727fc-0828-47be-a40d-6b017f18cff6"
      },
      "outputs": [
        {
          "data": {
            "text/plain": [
              "Timestamp           0\n",
              "traceID             0\n",
              "spanID              0\n",
              "parentSpanID    41781\n",
              "serviceName         0\n",
              "Name                0\n",
              "durationNano        0\n",
              "dtype: int64"
            ]
          },
          "execution_count": 12,
          "metadata": {},
          "output_type": "execute_result"
        }
      ],
      "source": [
        "##checking for null values\n",
        "df.isna().sum()"
      ]
    },
    {
      "cell_type": "markdown",
      "metadata": {
        "id": "cE6hlteL5qgb"
      },
      "source": [
        "Null values present only in parentSpanID column"
      ]
    },
    {
      "cell_type": "code",
      "execution_count": null,
      "metadata": {
        "id": "x9USnfch5vJh"
      },
      "outputs": [],
      "source": [
        "## filling nullvalues in parentSpanID  using 0\n",
        "df['parentSpanID'].fillna(0, inplace=True)"
      ]
    },
    {
      "cell_type": "markdown",
      "metadata": {
        "id": "9JLnzCGV51fx"
      },
      "source": [
        "Since null values are not good for modelling our machine learning model,I just replaced null values with 0."
      ]
    },
    {
      "cell_type": "code",
      "execution_count": null,
      "metadata": {
        "colab": {
          "base_uri": "https://localhost:8080/"
        },
        "id": "uaBDGVYx530I",
        "outputId": "b6b2b9a9-ee36-4398-f772-4cd9ba7edca1"
      },
      "outputs": [
        {
          "data": {
            "text/plain": [
              "Timestamp       0\n",
              "traceID         0\n",
              "spanID          0\n",
              "parentSpanID    0\n",
              "serviceName     0\n",
              "Name            0\n",
              "durationNano    0\n",
              "dtype: int64"
            ]
          },
          "execution_count": 14,
          "metadata": {},
          "output_type": "execute_result"
        }
      ],
      "source": [
        "## again checking for null values\n",
        "df.isna().sum()"
      ]
    },
    {
      "cell_type": "code",
      "execution_count": null,
      "metadata": {
        "colab": {
          "base_uri": "https://localhost:8080/",
          "height": 300
        },
        "id": "hAvzfgy56U5M",
        "outputId": "db16bc29-360c-40d2-9527-847288580ee2"
      },
      "outputs": [
        {
          "data": {
            "application/vnd.google.colaboratory.intrinsic+json": {
              "summary": "{\n  \"name\": \"df\",\n  \"rows\": 8,\n  \"fields\": [\n    {\n      \"column\": \"durationNano\",\n      \"properties\": {\n        \"dtype\": \"number\",\n        \"std\": 1765955896.7343817,\n        \"min\": 0.0,\n        \"max\": 4999858000.0,\n        \"num_unique_values\": 8,\n        \"samples\": [\n          5414917.860844702,\n          1584906.0,\n          183615.0\n        ],\n        \"semantic_type\": \"\",\n        \"description\": \"\"\n      }\n    }\n  ]\n}",
              "type": "dataframe"
            },
            "text/html": [
              "\n",
              "  <div id=\"df-55a3b4d6-72e2-45a6-926f-f1d40fedfe2f\" class=\"colab-df-container\">\n",
              "    <div>\n",
              "<style scoped>\n",
              "    .dataframe tbody tr th:only-of-type {\n",
              "        vertical-align: middle;\n",
              "    }\n",
              "\n",
              "    .dataframe tbody tr th {\n",
              "        vertical-align: top;\n",
              "    }\n",
              "\n",
              "    .dataframe thead th {\n",
              "        text-align: right;\n",
              "    }\n",
              "</style>\n",
              "<table border=\"1\" class=\"dataframe\">\n",
              "  <thead>\n",
              "    <tr style=\"text-align: right;\">\n",
              "      <th></th>\n",
              "      <th>durationNano</th>\n",
              "    </tr>\n",
              "  </thead>\n",
              "  <tbody>\n",
              "    <tr>\n",
              "      <th>count</th>\n",
              "      <td>1.836150e+05</td>\n",
              "    </tr>\n",
              "    <tr>\n",
              "      <th>mean</th>\n",
              "      <td>5.414918e+06</td>\n",
              "    </tr>\n",
              "    <tr>\n",
              "      <th>std</th>\n",
              "      <td>2.077879e+07</td>\n",
              "    </tr>\n",
              "    <tr>\n",
              "      <th>min</th>\n",
              "      <td>0.000000e+00</td>\n",
              "    </tr>\n",
              "    <tr>\n",
              "      <th>25%</th>\n",
              "      <td>3.357000e+05</td>\n",
              "    </tr>\n",
              "    <tr>\n",
              "      <th>50%</th>\n",
              "      <td>1.584906e+06</td>\n",
              "    </tr>\n",
              "    <tr>\n",
              "      <th>75%</th>\n",
              "      <td>6.832718e+06</td>\n",
              "    </tr>\n",
              "    <tr>\n",
              "      <th>max</th>\n",
              "      <td>4.999858e+09</td>\n",
              "    </tr>\n",
              "  </tbody>\n",
              "</table>\n",
              "</div>\n",
              "    <div class=\"colab-df-buttons\">\n",
              "\n",
              "  <div class=\"colab-df-container\">\n",
              "    <button class=\"colab-df-convert\" onclick=\"convertToInteractive('df-55a3b4d6-72e2-45a6-926f-f1d40fedfe2f')\"\n",
              "            title=\"Convert this dataframe to an interactive table.\"\n",
              "            style=\"display:none;\">\n",
              "\n",
              "  <svg xmlns=\"http://www.w3.org/2000/svg\" height=\"24px\" viewBox=\"0 -960 960 960\">\n",
              "    <path d=\"M120-120v-720h720v720H120Zm60-500h600v-160H180v160Zm220 220h160v-160H400v160Zm0 220h160v-160H400v160ZM180-400h160v-160H180v160Zm440 0h160v-160H620v160ZM180-180h160v-160H180v160Zm440 0h160v-160H620v160Z\"/>\n",
              "  </svg>\n",
              "    </button>\n",
              "\n",
              "  <style>\n",
              "    .colab-df-container {\n",
              "      display:flex;\n",
              "      gap: 12px;\n",
              "    }\n",
              "\n",
              "    .colab-df-convert {\n",
              "      background-color: #E8F0FE;\n",
              "      border: none;\n",
              "      border-radius: 50%;\n",
              "      cursor: pointer;\n",
              "      display: none;\n",
              "      fill: #1967D2;\n",
              "      height: 32px;\n",
              "      padding: 0 0 0 0;\n",
              "      width: 32px;\n",
              "    }\n",
              "\n",
              "    .colab-df-convert:hover {\n",
              "      background-color: #E2EBFA;\n",
              "      box-shadow: 0px 1px 2px rgba(60, 64, 67, 0.3), 0px 1px 3px 1px rgba(60, 64, 67, 0.15);\n",
              "      fill: #174EA6;\n",
              "    }\n",
              "\n",
              "    .colab-df-buttons div {\n",
              "      margin-bottom: 4px;\n",
              "    }\n",
              "\n",
              "    [theme=dark] .colab-df-convert {\n",
              "      background-color: #3B4455;\n",
              "      fill: #D2E3FC;\n",
              "    }\n",
              "\n",
              "    [theme=dark] .colab-df-convert:hover {\n",
              "      background-color: #434B5C;\n",
              "      box-shadow: 0px 1px 3px 1px rgba(0, 0, 0, 0.15);\n",
              "      filter: drop-shadow(0px 1px 2px rgba(0, 0, 0, 0.3));\n",
              "      fill: #FFFFFF;\n",
              "    }\n",
              "  </style>\n",
              "\n",
              "    <script>\n",
              "      const buttonEl =\n",
              "        document.querySelector('#df-55a3b4d6-72e2-45a6-926f-f1d40fedfe2f button.colab-df-convert');\n",
              "      buttonEl.style.display =\n",
              "        google.colab.kernel.accessAllowed ? 'block' : 'none';\n",
              "\n",
              "      async function convertToInteractive(key) {\n",
              "        const element = document.querySelector('#df-55a3b4d6-72e2-45a6-926f-f1d40fedfe2f');\n",
              "        const dataTable =\n",
              "          await google.colab.kernel.invokeFunction('convertToInteractive',\n",
              "                                                    [key], {});\n",
              "        if (!dataTable) return;\n",
              "\n",
              "        const docLinkHtml = 'Like what you see? Visit the ' +\n",
              "          '<a target=\"_blank\" href=https://colab.research.google.com/notebooks/data_table.ipynb>data table notebook</a>'\n",
              "          + ' to learn more about interactive tables.';\n",
              "        element.innerHTML = '';\n",
              "        dataTable['output_type'] = 'display_data';\n",
              "        await google.colab.output.renderOutput(dataTable, element);\n",
              "        const docLink = document.createElement('div');\n",
              "        docLink.innerHTML = docLinkHtml;\n",
              "        element.appendChild(docLink);\n",
              "      }\n",
              "    </script>\n",
              "  </div>\n",
              "\n",
              "\n",
              "<div id=\"df-c8277e1d-f073-41b9-9566-d345d09300e3\">\n",
              "  <button class=\"colab-df-quickchart\" onclick=\"quickchart('df-c8277e1d-f073-41b9-9566-d345d09300e3')\"\n",
              "            title=\"Suggest charts\"\n",
              "            style=\"display:none;\">\n",
              "\n",
              "<svg xmlns=\"http://www.w3.org/2000/svg\" height=\"24px\"viewBox=\"0 0 24 24\"\n",
              "     width=\"24px\">\n",
              "    <g>\n",
              "        <path d=\"M19 3H5c-1.1 0-2 .9-2 2v14c0 1.1.9 2 2 2h14c1.1 0 2-.9 2-2V5c0-1.1-.9-2-2-2zM9 17H7v-7h2v7zm4 0h-2V7h2v10zm4 0h-2v-4h2v4z\"/>\n",
              "    </g>\n",
              "</svg>\n",
              "  </button>\n",
              "\n",
              "<style>\n",
              "  .colab-df-quickchart {\n",
              "      --bg-color: #E8F0FE;\n",
              "      --fill-color: #1967D2;\n",
              "      --hover-bg-color: #E2EBFA;\n",
              "      --hover-fill-color: #174EA6;\n",
              "      --disabled-fill-color: #AAA;\n",
              "      --disabled-bg-color: #DDD;\n",
              "  }\n",
              "\n",
              "  [theme=dark] .colab-df-quickchart {\n",
              "      --bg-color: #3B4455;\n",
              "      --fill-color: #D2E3FC;\n",
              "      --hover-bg-color: #434B5C;\n",
              "      --hover-fill-color: #FFFFFF;\n",
              "      --disabled-bg-color: #3B4455;\n",
              "      --disabled-fill-color: #666;\n",
              "  }\n",
              "\n",
              "  .colab-df-quickchart {\n",
              "    background-color: var(--bg-color);\n",
              "    border: none;\n",
              "    border-radius: 50%;\n",
              "    cursor: pointer;\n",
              "    display: none;\n",
              "    fill: var(--fill-color);\n",
              "    height: 32px;\n",
              "    padding: 0;\n",
              "    width: 32px;\n",
              "  }\n",
              "\n",
              "  .colab-df-quickchart:hover {\n",
              "    background-color: var(--hover-bg-color);\n",
              "    box-shadow: 0 1px 2px rgba(60, 64, 67, 0.3), 0 1px 3px 1px rgba(60, 64, 67, 0.15);\n",
              "    fill: var(--button-hover-fill-color);\n",
              "  }\n",
              "\n",
              "  .colab-df-quickchart-complete:disabled,\n",
              "  .colab-df-quickchart-complete:disabled:hover {\n",
              "    background-color: var(--disabled-bg-color);\n",
              "    fill: var(--disabled-fill-color);\n",
              "    box-shadow: none;\n",
              "  }\n",
              "\n",
              "  .colab-df-spinner {\n",
              "    border: 2px solid var(--fill-color);\n",
              "    border-color: transparent;\n",
              "    border-bottom-color: var(--fill-color);\n",
              "    animation:\n",
              "      spin 1s steps(1) infinite;\n",
              "  }\n",
              "\n",
              "  @keyframes spin {\n",
              "    0% {\n",
              "      border-color: transparent;\n",
              "      border-bottom-color: var(--fill-color);\n",
              "      border-left-color: var(--fill-color);\n",
              "    }\n",
              "    20% {\n",
              "      border-color: transparent;\n",
              "      border-left-color: var(--fill-color);\n",
              "      border-top-color: var(--fill-color);\n",
              "    }\n",
              "    30% {\n",
              "      border-color: transparent;\n",
              "      border-left-color: var(--fill-color);\n",
              "      border-top-color: var(--fill-color);\n",
              "      border-right-color: var(--fill-color);\n",
              "    }\n",
              "    40% {\n",
              "      border-color: transparent;\n",
              "      border-right-color: var(--fill-color);\n",
              "      border-top-color: var(--fill-color);\n",
              "    }\n",
              "    60% {\n",
              "      border-color: transparent;\n",
              "      border-right-color: var(--fill-color);\n",
              "    }\n",
              "    80% {\n",
              "      border-color: transparent;\n",
              "      border-right-color: var(--fill-color);\n",
              "      border-bottom-color: var(--fill-color);\n",
              "    }\n",
              "    90% {\n",
              "      border-color: transparent;\n",
              "      border-bottom-color: var(--fill-color);\n",
              "    }\n",
              "  }\n",
              "</style>\n",
              "\n",
              "  <script>\n",
              "    async function quickchart(key) {\n",
              "      const quickchartButtonEl =\n",
              "        document.querySelector('#' + key + ' button');\n",
              "      quickchartButtonEl.disabled = true;  // To prevent multiple clicks.\n",
              "      quickchartButtonEl.classList.add('colab-df-spinner');\n",
              "      try {\n",
              "        const charts = await google.colab.kernel.invokeFunction(\n",
              "            'suggestCharts', [key], {});\n",
              "      } catch (error) {\n",
              "        console.error('Error during call to suggestCharts:', error);\n",
              "      }\n",
              "      quickchartButtonEl.classList.remove('colab-df-spinner');\n",
              "      quickchartButtonEl.classList.add('colab-df-quickchart-complete');\n",
              "    }\n",
              "    (() => {\n",
              "      let quickchartButtonEl =\n",
              "        document.querySelector('#df-c8277e1d-f073-41b9-9566-d345d09300e3 button');\n",
              "      quickchartButtonEl.style.display =\n",
              "        google.colab.kernel.accessAllowed ? 'block' : 'none';\n",
              "    })();\n",
              "  </script>\n",
              "</div>\n",
              "\n",
              "    </div>\n",
              "  </div>\n"
            ],
            "text/plain": [
              "       durationNano\n",
              "count  1.836150e+05\n",
              "mean   5.414918e+06\n",
              "std    2.077879e+07\n",
              "min    0.000000e+00\n",
              "25%    3.357000e+05\n",
              "50%    1.584906e+06\n",
              "75%    6.832718e+06\n",
              "max    4.999858e+09"
            ]
          },
          "execution_count": 16,
          "metadata": {},
          "output_type": "execute_result"
        }
      ],
      "source": [
        "##statistical summary of our dataset\n",
        "df.describe()"
      ]
    },
    {
      "cell_type": "code",
      "execution_count": null,
      "metadata": {
        "colab": {
          "base_uri": "https://localhost:8080/",
          "height": 175
        },
        "id": "EuEONpk36amf",
        "outputId": "c299f28f-3428-49bd-cd7c-fb065a0e29d3"
      },
      "outputs": [
        {
          "data": {
            "application/vnd.google.colaboratory.intrinsic+json": {
              "summary": "{\n  \"name\": \"df\",\n  \"rows\": 4,\n  \"fields\": [\n    {\n      \"column\": \"traceID\",\n      \"properties\": {\n        \"dtype\": \"string\",\n        \"num_unique_values\": 4,\n        \"samples\": [\n          41792,\n          \"62\",\n          \"183615\"\n        ],\n        \"semantic_type\": \"\",\n        \"description\": \"\"\n      }\n    },\n    {\n      \"column\": \"spanID\",\n      \"properties\": {\n        \"dtype\": \"string\",\n        \"num_unique_values\": 3,\n        \"samples\": [\n          \"183615\",\n          \"0d87dcf5ea5aeaab\",\n          \"1\"\n        ],\n        \"semantic_type\": \"\",\n        \"description\": \"\"\n      }\n    },\n    {\n      \"column\": \"parentSpanID\",\n      \"properties\": {\n        \"dtype\": \"number\",\n        \"std\": 80205,\n        \"min\": 0,\n        \"max\": 183615,\n        \"num_unique_values\": 4,\n        \"samples\": [\n          107234,\n          41781,\n          183615\n        ],\n        \"semantic_type\": \"\",\n        \"description\": \"\"\n      }\n    },\n    {\n      \"column\": \"serviceName\",\n      \"properties\": {\n        \"dtype\": \"string\",\n        \"num_unique_values\": 4,\n        \"samples\": [\n          17,\n          \"65758\",\n          \"183615\"\n        ],\n        \"semantic_type\": \"\",\n        \"description\": \"\"\n      }\n    },\n    {\n      \"column\": \"Name\",\n      \"properties\": {\n        \"dtype\": \"string\",\n        \"num_unique_values\": 4,\n        \"samples\": [\n          66,\n          \"41311\",\n          \"183615\"\n        ],\n        \"semantic_type\": \"\",\n        \"description\": \"\"\n      }\n    }\n  ]\n}",
              "type": "dataframe"
            },
            "text/html": [
              "\n",
              "  <div id=\"df-e1ffb477-6961-4f47-96cb-7683fac949d6\" class=\"colab-df-container\">\n",
              "    <div>\n",
              "<style scoped>\n",
              "    .dataframe tbody tr th:only-of-type {\n",
              "        vertical-align: middle;\n",
              "    }\n",
              "\n",
              "    .dataframe tbody tr th {\n",
              "        vertical-align: top;\n",
              "    }\n",
              "\n",
              "    .dataframe thead th {\n",
              "        text-align: right;\n",
              "    }\n",
              "</style>\n",
              "<table border=\"1\" class=\"dataframe\">\n",
              "  <thead>\n",
              "    <tr style=\"text-align: right;\">\n",
              "      <th></th>\n",
              "      <th>traceID</th>\n",
              "      <th>spanID</th>\n",
              "      <th>parentSpanID</th>\n",
              "      <th>serviceName</th>\n",
              "      <th>Name</th>\n",
              "    </tr>\n",
              "  </thead>\n",
              "  <tbody>\n",
              "    <tr>\n",
              "      <th>count</th>\n",
              "      <td>183615</td>\n",
              "      <td>183615</td>\n",
              "      <td>183615</td>\n",
              "      <td>183615</td>\n",
              "      <td>183615</td>\n",
              "    </tr>\n",
              "    <tr>\n",
              "      <th>unique</th>\n",
              "      <td>41792</td>\n",
              "      <td>183615</td>\n",
              "      <td>107234</td>\n",
              "      <td>17</td>\n",
              "      <td>66</td>\n",
              "    </tr>\n",
              "    <tr>\n",
              "      <th>top</th>\n",
              "      <td>1f2fae8467906870310cea93db646b1b</td>\n",
              "      <td>0d87dcf5ea5aeaab</td>\n",
              "      <td>0</td>\n",
              "      <td>frontend</td>\n",
              "      <td>HTTP GET</td>\n",
              "    </tr>\n",
              "    <tr>\n",
              "      <th>freq</th>\n",
              "      <td>62</td>\n",
              "      <td>1</td>\n",
              "      <td>41781</td>\n",
              "      <td>65758</td>\n",
              "      <td>41311</td>\n",
              "    </tr>\n",
              "  </tbody>\n",
              "</table>\n",
              "</div>\n",
              "    <div class=\"colab-df-buttons\">\n",
              "\n",
              "  <div class=\"colab-df-container\">\n",
              "    <button class=\"colab-df-convert\" onclick=\"convertToInteractive('df-e1ffb477-6961-4f47-96cb-7683fac949d6')\"\n",
              "            title=\"Convert this dataframe to an interactive table.\"\n",
              "            style=\"display:none;\">\n",
              "\n",
              "  <svg xmlns=\"http://www.w3.org/2000/svg\" height=\"24px\" viewBox=\"0 -960 960 960\">\n",
              "    <path d=\"M120-120v-720h720v720H120Zm60-500h600v-160H180v160Zm220 220h160v-160H400v160Zm0 220h160v-160H400v160ZM180-400h160v-160H180v160Zm440 0h160v-160H620v160ZM180-180h160v-160H180v160Zm440 0h160v-160H620v160Z\"/>\n",
              "  </svg>\n",
              "    </button>\n",
              "\n",
              "  <style>\n",
              "    .colab-df-container {\n",
              "      display:flex;\n",
              "      gap: 12px;\n",
              "    }\n",
              "\n",
              "    .colab-df-convert {\n",
              "      background-color: #E8F0FE;\n",
              "      border: none;\n",
              "      border-radius: 50%;\n",
              "      cursor: pointer;\n",
              "      display: none;\n",
              "      fill: #1967D2;\n",
              "      height: 32px;\n",
              "      padding: 0 0 0 0;\n",
              "      width: 32px;\n",
              "    }\n",
              "\n",
              "    .colab-df-convert:hover {\n",
              "      background-color: #E2EBFA;\n",
              "      box-shadow: 0px 1px 2px rgba(60, 64, 67, 0.3), 0px 1px 3px 1px rgba(60, 64, 67, 0.15);\n",
              "      fill: #174EA6;\n",
              "    }\n",
              "\n",
              "    .colab-df-buttons div {\n",
              "      margin-bottom: 4px;\n",
              "    }\n",
              "\n",
              "    [theme=dark] .colab-df-convert {\n",
              "      background-color: #3B4455;\n",
              "      fill: #D2E3FC;\n",
              "    }\n",
              "\n",
              "    [theme=dark] .colab-df-convert:hover {\n",
              "      background-color: #434B5C;\n",
              "      box-shadow: 0px 1px 3px 1px rgba(0, 0, 0, 0.15);\n",
              "      filter: drop-shadow(0px 1px 2px rgba(0, 0, 0, 0.3));\n",
              "      fill: #FFFFFF;\n",
              "    }\n",
              "  </style>\n",
              "\n",
              "    <script>\n",
              "      const buttonEl =\n",
              "        document.querySelector('#df-e1ffb477-6961-4f47-96cb-7683fac949d6 button.colab-df-convert');\n",
              "      buttonEl.style.display =\n",
              "        google.colab.kernel.accessAllowed ? 'block' : 'none';\n",
              "\n",
              "      async function convertToInteractive(key) {\n",
              "        const element = document.querySelector('#df-e1ffb477-6961-4f47-96cb-7683fac949d6');\n",
              "        const dataTable =\n",
              "          await google.colab.kernel.invokeFunction('convertToInteractive',\n",
              "                                                    [key], {});\n",
              "        if (!dataTable) return;\n",
              "\n",
              "        const docLinkHtml = 'Like what you see? Visit the ' +\n",
              "          '<a target=\"_blank\" href=https://colab.research.google.com/notebooks/data_table.ipynb>data table notebook</a>'\n",
              "          + ' to learn more about interactive tables.';\n",
              "        element.innerHTML = '';\n",
              "        dataTable['output_type'] = 'display_data';\n",
              "        await google.colab.output.renderOutput(dataTable, element);\n",
              "        const docLink = document.createElement('div');\n",
              "        docLink.innerHTML = docLinkHtml;\n",
              "        element.appendChild(docLink);\n",
              "      }\n",
              "    </script>\n",
              "  </div>\n",
              "\n",
              "\n",
              "<div id=\"df-bfd1c96f-7f63-411d-9141-b095fa5a8567\">\n",
              "  <button class=\"colab-df-quickchart\" onclick=\"quickchart('df-bfd1c96f-7f63-411d-9141-b095fa5a8567')\"\n",
              "            title=\"Suggest charts\"\n",
              "            style=\"display:none;\">\n",
              "\n",
              "<svg xmlns=\"http://www.w3.org/2000/svg\" height=\"24px\"viewBox=\"0 0 24 24\"\n",
              "     width=\"24px\">\n",
              "    <g>\n",
              "        <path d=\"M19 3H5c-1.1 0-2 .9-2 2v14c0 1.1.9 2 2 2h14c1.1 0 2-.9 2-2V5c0-1.1-.9-2-2-2zM9 17H7v-7h2v7zm4 0h-2V7h2v10zm4 0h-2v-4h2v4z\"/>\n",
              "    </g>\n",
              "</svg>\n",
              "  </button>\n",
              "\n",
              "<style>\n",
              "  .colab-df-quickchart {\n",
              "      --bg-color: #E8F0FE;\n",
              "      --fill-color: #1967D2;\n",
              "      --hover-bg-color: #E2EBFA;\n",
              "      --hover-fill-color: #174EA6;\n",
              "      --disabled-fill-color: #AAA;\n",
              "      --disabled-bg-color: #DDD;\n",
              "  }\n",
              "\n",
              "  [theme=dark] .colab-df-quickchart {\n",
              "      --bg-color: #3B4455;\n",
              "      --fill-color: #D2E3FC;\n",
              "      --hover-bg-color: #434B5C;\n",
              "      --hover-fill-color: #FFFFFF;\n",
              "      --disabled-bg-color: #3B4455;\n",
              "      --disabled-fill-color: #666;\n",
              "  }\n",
              "\n",
              "  .colab-df-quickchart {\n",
              "    background-color: var(--bg-color);\n",
              "    border: none;\n",
              "    border-radius: 50%;\n",
              "    cursor: pointer;\n",
              "    display: none;\n",
              "    fill: var(--fill-color);\n",
              "    height: 32px;\n",
              "    padding: 0;\n",
              "    width: 32px;\n",
              "  }\n",
              "\n",
              "  .colab-df-quickchart:hover {\n",
              "    background-color: var(--hover-bg-color);\n",
              "    box-shadow: 0 1px 2px rgba(60, 64, 67, 0.3), 0 1px 3px 1px rgba(60, 64, 67, 0.15);\n",
              "    fill: var(--button-hover-fill-color);\n",
              "  }\n",
              "\n",
              "  .colab-df-quickchart-complete:disabled,\n",
              "  .colab-df-quickchart-complete:disabled:hover {\n",
              "    background-color: var(--disabled-bg-color);\n",
              "    fill: var(--disabled-fill-color);\n",
              "    box-shadow: none;\n",
              "  }\n",
              "\n",
              "  .colab-df-spinner {\n",
              "    border: 2px solid var(--fill-color);\n",
              "    border-color: transparent;\n",
              "    border-bottom-color: var(--fill-color);\n",
              "    animation:\n",
              "      spin 1s steps(1) infinite;\n",
              "  }\n",
              "\n",
              "  @keyframes spin {\n",
              "    0% {\n",
              "      border-color: transparent;\n",
              "      border-bottom-color: var(--fill-color);\n",
              "      border-left-color: var(--fill-color);\n",
              "    }\n",
              "    20% {\n",
              "      border-color: transparent;\n",
              "      border-left-color: var(--fill-color);\n",
              "      border-top-color: var(--fill-color);\n",
              "    }\n",
              "    30% {\n",
              "      border-color: transparent;\n",
              "      border-left-color: var(--fill-color);\n",
              "      border-top-color: var(--fill-color);\n",
              "      border-right-color: var(--fill-color);\n",
              "    }\n",
              "    40% {\n",
              "      border-color: transparent;\n",
              "      border-right-color: var(--fill-color);\n",
              "      border-top-color: var(--fill-color);\n",
              "    }\n",
              "    60% {\n",
              "      border-color: transparent;\n",
              "      border-right-color: var(--fill-color);\n",
              "    }\n",
              "    80% {\n",
              "      border-color: transparent;\n",
              "      border-right-color: var(--fill-color);\n",
              "      border-bottom-color: var(--fill-color);\n",
              "    }\n",
              "    90% {\n",
              "      border-color: transparent;\n",
              "      border-bottom-color: var(--fill-color);\n",
              "    }\n",
              "  }\n",
              "</style>\n",
              "\n",
              "  <script>\n",
              "    async function quickchart(key) {\n",
              "      const quickchartButtonEl =\n",
              "        document.querySelector('#' + key + ' button');\n",
              "      quickchartButtonEl.disabled = true;  // To prevent multiple clicks.\n",
              "      quickchartButtonEl.classList.add('colab-df-spinner');\n",
              "      try {\n",
              "        const charts = await google.colab.kernel.invokeFunction(\n",
              "            'suggestCharts', [key], {});\n",
              "      } catch (error) {\n",
              "        console.error('Error during call to suggestCharts:', error);\n",
              "      }\n",
              "      quickchartButtonEl.classList.remove('colab-df-spinner');\n",
              "      quickchartButtonEl.classList.add('colab-df-quickchart-complete');\n",
              "    }\n",
              "    (() => {\n",
              "      let quickchartButtonEl =\n",
              "        document.querySelector('#df-bfd1c96f-7f63-411d-9141-b095fa5a8567 button');\n",
              "      quickchartButtonEl.style.display =\n",
              "        google.colab.kernel.accessAllowed ? 'block' : 'none';\n",
              "    })();\n",
              "  </script>\n",
              "</div>\n",
              "\n",
              "    </div>\n",
              "  </div>\n"
            ],
            "text/plain": [
              "                                 traceID            spanID  parentSpanID  \\\n",
              "count                             183615            183615        183615   \n",
              "unique                             41792            183615        107234   \n",
              "top     1f2fae8467906870310cea93db646b1b  0d87dcf5ea5aeaab             0   \n",
              "freq                                  62                 1         41781   \n",
              "\n",
              "       serviceName      Name  \n",
              "count       183615    183615  \n",
              "unique          17        66  \n",
              "top       frontend  HTTP GET  \n",
              "freq         65758     41311  "
            ]
          },
          "execution_count": 17,
          "metadata": {},
          "output_type": "execute_result"
        }
      ],
      "source": [
        "##exploring categorical features\n",
        "df.describe(include=object)"
      ]
    },
    {
      "cell_type": "markdown",
      "metadata": {
        "id": "7no-k7NT6hut"
      },
      "source": [
        "Insights:\n",
        "\n",
        "1)The count indicates the number of non-null values in each column.\n",
        "\n",
        "2)The unique count shows the number of distinct values in each column.For example, traceID has 41,792 unique values, while serviceName has 17 unique values, and Name has 66 unique values.\n",
        "\n",
        "3)The top row represents the most frequent value in each column.For example, the most frequent traceID is '1f2fae8467906870310cea93db646b1b', and the most frequent serviceName is 'frontend'.\n",
        "\n",
        "4)The frequency or count of the top value shows how many times the top value occurs in the respective column.For example, '1f2fae8467906870310cea93db646b1b' occurs 62 times in the traceID column, indicating a relatively common traceID.\n",
        "\n"
      ]
    },
    {
      "cell_type": "code",
      "execution_count": null,
      "metadata": {
        "colab": {
          "base_uri": "https://localhost:8080/"
        },
        "id": "_spOQUhg6nsF",
        "outputId": "c840beb1-a767-4388-9f01-4669085ea69b"
      },
      "outputs": [
        {
          "data": {
            "text/plain": [
              "0"
            ]
          },
          "execution_count": 18,
          "metadata": {},
          "output_type": "execute_result"
        }
      ],
      "source": [
        "##checking for duplicates in our dataset\n",
        "duplicates=df.duplicated()\n",
        "duplicates.sum()"
      ]
    },
    {
      "cell_type": "markdown",
      "metadata": {
        "id": "dNl1hDG_6-U7"
      },
      "source": [
        "There are no duplictes in our dataset."
      ]
    },
    {
      "cell_type": "markdown",
      "metadata": {
        "id": "tr0G8aqBtAdk"
      },
      "source": [
        "***Exploring Columns ***\n"
      ]
    },
    {
      "cell_type": "code",
      "execution_count": null,
      "metadata": {
        "colab": {
          "base_uri": "https://localhost:8080/"
        },
        "id": "ZjGena1W7ASI",
        "outputId": "f8b8aaf1-70c3-4f8a-f4c5-1a42f9e72007"
      },
      "outputs": [
        {
          "data": {
            "text/plain": [
              "1f2fae8467906870310cea93db646b1b    62\n",
              "baf28a33f67b3fdc32a23efc21ebe1ca    62\n",
              "1a22bbee3f36988839bd3a3942702489    62\n",
              "61e54cdbd7d9de6aa0208c2cc5953564    62\n",
              "149a8568251d5fe3a3063325a295d449    62\n",
              "                                    ..\n",
              "f0e1817ed4f9b6a55cc562663cadce94     1\n",
              "42c2ff9c6dbc49086f2b167aebe3763c     1\n",
              "52249464b186bf19c41ae4ce8c59f374     1\n",
              "7a9e56b233c638a999c571f02267e713     1\n",
              "067f3d281447b5b3773e7d70ede6a0b5     1\n",
              "Name: traceID, Length: 41792, dtype: int64"
            ]
          },
          "execution_count": 19,
          "metadata": {},
          "output_type": "execute_result"
        }
      ],
      "source": [
        "##count the occurrences of unique values\n",
        "df['traceID'].value_counts()"
      ]
    },
    {
      "cell_type": "code",
      "execution_count": null,
      "metadata": {
        "colab": {
          "base_uri": "https://localhost:8080/"
        },
        "id": "C9I62rmP7I7a",
        "outputId": "706e9963-0d52-47a7-f137-2b44252d9aeb"
      },
      "outputs": [
        {
          "data": {
            "text/plain": [
              "41792"
            ]
          },
          "execution_count": 20,
          "metadata": {},
          "output_type": "execute_result"
        }
      ],
      "source": [
        "##Returns the count of unique elements.\n",
        "df['traceID'].nunique()"
      ]
    },
    {
      "cell_type": "markdown",
      "metadata": {
        "id": "XF4LIzjUvpQ0"
      },
      "source": [
        "Only 41792 unique values in traceID."
      ]
    },
    {
      "cell_type": "code",
      "execution_count": null,
      "metadata": {
        "colab": {
          "base_uri": "https://localhost:8080/"
        },
        "id": "juj64_Op7Mzo",
        "outputId": "98fc59bf-3958-4962-dc4c-b948f2e3d4c8"
      },
      "outputs": [
        {
          "data": {
            "text/plain": [
              "array(['d8d992638d73274d0a6710a1f9d17f93',\n",
              "       'fab7ab123d61c8d7d71062fc44ffb87e',\n",
              "       '39a34f6b196aa69cdd5364bfc73b35b4', ...,\n",
              "       '15243d75c8354995c1054a7a75a20367',\n",
              "       '4d45a4d63d5ec0498c01d532d077ef21',\n",
              "       'e48e1431249a8879f4441b3222a7c96d'], dtype=object)"
            ]
          },
          "execution_count": 21,
          "metadata": {},
          "output_type": "execute_result"
        }
      ],
      "source": [
        "##Returns an array or list of unique elements.\n",
        "df['traceID'].unique()"
      ]
    },
    {
      "cell_type": "markdown",
      "metadata": {
        "id": "WwL0EAZ9uwpj"
      },
      "source": [
        "**Distribution Of TraceId**"
      ]
    },
    {
      "cell_type": "code",
      "execution_count": null,
      "metadata": {
        "colab": {
          "base_uri": "https://localhost:8080/",
          "height": 819
        },
        "id": "ioWLpeLn7fwN",
        "outputId": "27519036-e242-4064-d9e1-ef06a1bb6c94"
      },
      "outputs": [
        {
          "data": {
            "image/png": "[encoded data removed]",
            "text/plain": [
              "<Figure size 1000x600 with 1 Axes>"
            ]
          },
          "metadata": {},
          "output_type": "display_data"
        }
      ],
      "source": [
        "## Visualising the distribution of first 10 traceid's\n",
        "\n",
        "## mentioning the figure size\n",
        "plt.figure(figsize=(10,6))\n",
        "## taking unique values in traceid\n",
        "trace_id_counts = df['traceID'].value_counts()\n",
        "##taking top 10 values\n",
        "top_10_trace_ids = trace_id_counts.head(10)\n",
        "##used to set different colors for bars\n",
        "color_palette = sns.color_palette(\"Set2\")\n",
        "##plotting data we use barplot from seaborn\n",
        "sns.barplot(x=top_10_trace_ids.index, y=top_10_trace_ids.values,palette=color_palette)\n",
        "## mentioning xlabel\n",
        "plt.xlabel('Trace ID')\n",
        "##mentioning ylabel\n",
        "plt.ylabel('Count')\n",
        "## proper alignment of xlabels\n",
        "plt.xticks(rotation=70)\n",
        "plt.title('Distribution of Trace IDs')\n",
        "## to show the plot\n",
        "plt.show()"
      ]
    },
    {
      "cell_type": "markdown",
      "metadata": {
        "id": "IqFFZ1a-_Sp2"
      },
      "source": [
        "**Insights:**\n",
        "\n",
        "\n",
        "From the above ,we can see  top 10 most frequent traceid's ,almost all of them have equal frequency."
      ]
    },
    {
      "cell_type": "code",
      "execution_count": 6,
      "metadata": {
        "colab": {
          "base_uri": "https://localhost:8080/"
        },
        "id": "LnkIng9k_4QH",
        "outputId": "18f592a6-8407-43a7-8cc9-b01c797cb23a"
      },
      "outputs": [
        {
          "data": {
            "text/plain": [
              "0d87dcf5ea5aeaab    1\n",
              "ed13885daefc12ba    1\n",
              "cdcf63650f7f82c6    1\n",
              "51b6a11a8d33f7ba    1\n",
              "08ce7a85a111640d    1\n",
              "                   ..\n",
              "eab9b1d137205979    1\n",
              "c8c5d5c5f1839549    1\n",
              "24f249ed9461220e    1\n",
              "ed7c8fa3c0227642    1\n",
              "ae64d281880bfed7    1\n",
              "Name: spanID, Length: 183615, dtype: int64"
            ]
          },
          "execution_count": 6,
          "metadata": {},
          "output_type": "execute_result"
        }
      ],
      "source": [
        "df['spanID'].value_counts()"
      ]
    },
    {
      "cell_type": "code",
      "execution_count": null,
      "metadata": {
        "colab": {
          "base_uri": "https://localhost:8080/"
        },
        "id": "luTE0a2BAejZ",
        "outputId": "e276643c-0e94-46ca-9a42-ffeddc8652ca"
      },
      "outputs": [
        {
          "data": {
            "text/plain": [
              "183615"
            ]
          },
          "execution_count": 35,
          "metadata": {},
          "output_type": "execute_result"
        }
      ],
      "source": [
        "df['spanID'].nunique()"
      ]
    },
    {
      "cell_type": "markdown",
      "metadata": {
        "id": "ndqCxQ6Vvyrb"
      },
      "source": [
        "All values are unique"
      ]
    },
    {
      "cell_type": "code",
      "execution_count": null,
      "metadata": {
        "colab": {
          "base_uri": "https://localhost:8080/"
        },
        "id": "TGA2BVn6A9mM",
        "outputId": "c508ddbc-492e-40f9-a288-229a3e3f1e64"
      },
      "outputs": [
        {
          "data": {
            "text/plain": [
              "array(['0d87dcf5ea5aeaab', 'bd0a6f75f1a901b7', 'fe4acd4c8a763d24', ...,\n",
              "       '96139b9d0d16639a', 'b1321d3db08e86d3', 'ae64d281880bfed7'],\n",
              "      dtype=object)"
            ]
          },
          "execution_count": 36,
          "metadata": {},
          "output_type": "execute_result"
        }
      ],
      "source": [
        "df['spanID'].unique()"
      ]
    },
    {
      "cell_type": "code",
      "execution_count": 7,
      "metadata": {
        "colab": {
          "base_uri": "https://localhost:8080/"
        },
        "id": "AvoWSmxuBlnm",
        "outputId": "d0e5f85c-274f-443f-a7f4-9c203bbe6826"
      },
      "outputs": [
        {
          "data": {
            "text/plain": [
              "d1783a9be93930b7    59\n",
              "d7d27bf87b2ccf8b    19\n",
              "db11eaa9e76ff8aa    17\n",
              "5d746ecc99184252    11\n",
              "cd0cbbb33a062979    11\n",
              "                    ..\n",
              "5af930f24ae858d9     1\n",
              "ccda23ec9696b657     1\n",
              "bcd1a97fb3161999     1\n",
              "151e34f4ab9bc315     1\n",
              "2f7d3638d3ad3342     1\n",
              "Name: parentSpanID, Length: 107233, dtype: int64"
            ]
          },
          "execution_count": 7,
          "metadata": {},
          "output_type": "execute_result"
        }
      ],
      "source": [
        "df['parentSpanID'].value_counts()"
      ]
    },
    {
      "cell_type": "code",
      "execution_count": null,
      "metadata": {
        "colab": {
          "base_uri": "https://localhost:8080/"
        },
        "id": "32XW1NH2BoE8",
        "outputId": "3de047b5-a9ae-4068-ce71-7630192f78dd"
      },
      "outputs": [
        {
          "data": {
            "text/plain": [
              "107234"
            ]
          },
          "execution_count": 39,
          "metadata": {},
          "output_type": "execute_result"
        }
      ],
      "source": [
        "df['parentSpanID'].nunique()"
      ]
    },
    {
      "cell_type": "markdown",
      "metadata": {
        "id": "IUQUN2Lzv9R7"
      },
      "source": [
        "Only 107234 values are unique."
      ]
    },
    {
      "cell_type": "code",
      "execution_count": null,
      "metadata": {
        "colab": {
          "base_uri": "https://localhost:8080/"
        },
        "id": "OPHwOPZFBsT0",
        "outputId": "e26910ce-9c1f-483b-c82e-26930eacff62"
      },
      "outputs": [
        {
          "data": {
            "text/plain": [
              "array([0, '0d87dcf5ea5aeaab', '63f4a48ba5e06cfc', ..., '8f0b4f79ec0d0005',\n",
              "       '73e8e9281d421a7d', '2f7d3638d3ad3342'], dtype=object)"
            ]
          },
          "execution_count": 40,
          "metadata": {},
          "output_type": "execute_result"
        }
      ],
      "source": [
        "df['parentSpanID'].unique()"
      ]
    },
    {
      "cell_type": "code",
      "execution_count": null,
      "metadata": {
        "colab": {
          "base_uri": "https://localhost:8080/"
        },
        "id": "V2xQgOKlB1UP",
        "outputId": "f92f2f51-396c-4180-cd40-93ece280e83f"
      },
      "outputs": [
        {
          "data": {
            "text/plain": [
              "frontend-web               230\n",
              "accountingservice         1004\n",
              "frauddetectionservice     1004\n",
              "currencyservice           2860\n",
              "quoteservice              3010\n",
              "shippingservice           3012\n",
              "paymentservice            3337\n",
              "adservice                 3523\n",
              "emailservice              4016\n",
              "frontend-proxy            4836\n",
              "recommendationservice     6032\n",
              "featureflagservice        7623\n",
              "checkoutservice          13750\n",
              "loadgenerator            16852\n",
              "productcatalogservice    20934\n",
              "cartservice              25834\n",
              "frontend                 65758\n",
              "Name: serviceName, dtype: int64"
            ]
          },
          "execution_count": 41,
          "metadata": {},
          "output_type": "execute_result"
        }
      ],
      "source": [
        "df['serviceName'].value_counts().sort_values()"
      ]
    },
    {
      "cell_type": "code",
      "execution_count": null,
      "metadata": {
        "colab": {
          "base_uri": "https://localhost:8080/"
        },
        "id": "vGdoYZdlB39b",
        "outputId": "45f7d2fd-db75-4eca-e5a2-65591906f6df"
      },
      "outputs": [
        {
          "data": {
            "text/plain": [
              "17"
            ]
          },
          "execution_count": 42,
          "metadata": {},
          "output_type": "execute_result"
        }
      ],
      "source": [
        "df['serviceName'].nunique()"
      ]
    },
    {
      "cell_type": "markdown",
      "metadata": {
        "id": "YkgvyMYswID1"
      },
      "source": [
        "17 unique values in serviceName column."
      ]
    },
    {
      "cell_type": "code",
      "execution_count": null,
      "metadata": {
        "colab": {
          "base_uri": "https://localhost:8080/"
        },
        "id": "2khkkO7DB-lE",
        "outputId": "68c31637-d01f-4378-a8b1-0588f3100e15"
      },
      "outputs": [
        {
          "data": {
            "text/plain": [
              "array(['featureflagservice', 'frontend-proxy', 'paymentservice',\n",
              "       'frontend', 'loadgenerator', 'productcatalogservice',\n",
              "       'recommendationservice', 'cartservice', 'checkoutservice',\n",
              "       'currencyservice', 'shippingservice', 'quoteservice',\n",
              "       'emailservice', 'accountingservice', 'frauddetectionservice',\n",
              "       'adservice', 'frontend-web'], dtype=object)"
            ]
          },
          "execution_count": 43,
          "metadata": {},
          "output_type": "execute_result"
        }
      ],
      "source": [
        "df['serviceName'].unique()"
      ]
    },
    {
      "cell_type": "markdown",
      "metadata": {
        "id": "KWJTSXI7wR4b"
      },
      "source": [
        "**Distribution Of ServiceNames**"
      ]
    },
    {
      "cell_type": "code",
      "execution_count": null,
      "metadata": {
        "colab": {
          "base_uri": "https://localhost:8080/",
          "height": 713
        },
        "id": "29opNh8SCC0b",
        "outputId": "8af28d34-7f2c-461a-83c6-6ced4d979064"
      },
      "outputs": [
        {
          "data": {
            "image/png": "[encoded data removed]",
            "text/plain": [
              "<Figure size 1000x600 with 1 Axes>"
            ]
          },
          "metadata": {},
          "output_type": "display_data"
        }
      ],
      "source": [
        "plt.figure(figsize=(10,6))\n",
        "## taking  count of unique values in serviceName using value_counts()\n",
        "\n",
        "serviceName_counts = df['serviceName'].value_counts()\n",
        "## selecting top 10 values\n",
        "\n",
        "top_10_serviceName = serviceName_counts.head(10)\n",
        "\n",
        "## selecting color patterns for our bars in barplot\n",
        "\n",
        "color_palette = sns.color_palette(\"Set2\")\n",
        "## plotting barplot\n",
        "\n",
        "sns.barplot(x=top_10_serviceName.index, y=top_10_serviceName.values,palette=color_palette)\n",
        "plt.xlabel('serviceName')\n",
        "plt.ylabel('Count')\n",
        "plt.xticks(rotation=70)\n",
        "plt.title('Distribution of serviceName')\n",
        "plt.show()"
      ]
    },
    {
      "cell_type": "markdown",
      "metadata": {
        "id": "5c9-eZo4DJQl"
      },
      "source": [
        "**Insights:**\n",
        "\n",
        "From the above barplot,we can see that most  frequently  invoked service is frontend service.Second position is for cartservice.Third position is for productcatalogservice."
      ]
    },
    {
      "cell_type": "code",
      "execution_count": 8,
      "metadata": {
        "colab": {
          "base_uri": "https://localhost:8080/"
        },
        "id": "HwCxl2i9D1On",
        "outputId": "a24e491f-3ea3-438d-cccb-2c890465db32"
      },
      "outputs": [
        {
          "data": {
            "text/plain": [
              "HTTP GET                                          41311\n",
              "oteldemo.ProductCatalogService/GetProduct         19453\n",
              "grpc.oteldemo.ProductCatalogService/GetProduct    15741\n",
              "HTTP POST                                         12938\n",
              "HGET                                               8440\n",
              "                                                  ...  \n",
              "dns.lookup                                            3\n",
              "tcp.connect                                           3\n",
              "documentLoad                                          2\n",
              "fs existsSync                                         2\n",
              "documentFetch                                         2\n",
              "Name: Name, Length: 66, dtype: int64"
            ]
          },
          "execution_count": 8,
          "metadata": {},
          "output_type": "execute_result"
        }
      ],
      "source": [
        "df['Name'].value_counts()"
      ]
    },
    {
      "cell_type": "code",
      "execution_count": null,
      "metadata": {
        "colab": {
          "base_uri": "https://localhost:8080/"
        },
        "id": "AnsqARHKE8Rj",
        "outputId": "0398e883-5cbf-475a-ad23-4fe953a9abc6"
      },
      "outputs": [
        {
          "data": {
            "text/plain": [
              "66"
            ]
          },
          "execution_count": 46,
          "metadata": {},
          "output_type": "execute_result"
        }
      ],
      "source": [
        "df['Name'].nunique()"
      ]
    },
    {
      "cell_type": "code",
      "execution_count": null,
      "metadata": {
        "colab": {
          "base_uri": "https://localhost:8080/"
        },
        "id": "cxhnVP-0E_cu",
        "outputId": "95ab4990-3af9-45f0-d8bb-d8229b29f859"
      },
      "outputs": [
        {
          "data": {
            "text/plain": [
              "array(['/', 'featureflagservice.repo.query:featureflags', 'ingress',\n",
              "       'fs realpathSync', 'fs readFileSync', 'fs statSync', 'HTTP GET',\n",
              "       'oteldemo.ProductCatalogService/GetProduct', 'HTTP POST',\n",
              "       '/oteldemo.RecommendationService/ListRecommendations',\n",
              "       'get_product_list', '/oteldemo.FeatureFlagService/GetFlag',\n",
              "       '/oteldemo.ProductCatalogService/ListProducts',\n",
              "       'oteldemo.CartService/AddItem',\n",
              "       'oteldemo.ProductCatalogService/ListProducts', 'HGET', 'HMSET',\n",
              "       'EXPIRE', 'grpc.oteldemo.CartService/GetCart',\n",
              "       'oteldemo.CartService/GetCart',\n",
              "       'grpc.oteldemo.ProductCatalogService/GetProduct',\n",
              "       'oteldemo.FeatureFlagService/GetFlag',\n",
              "       'grpc.oteldemo.CartService/AddItem',\n",
              "       'grpc.oteldemo.CheckoutService/PlaceOrder', 'dns.lookup',\n",
              "       'tcp.connect', 'oteldemo.CheckoutService/PlaceOrder',\n",
              "       'prepareOrderItemsAndShippingQuoteFromCart',\n",
              "       'oteldemo.CurrencyService/Convert', 'CurrencyService/Convert',\n",
              "       'oteldemo.ShippingService/GetQuote', 'reqwest-http-client',\n",
              "       'POST /getquote', '{closure}', 'calculate-quote',\n",
              "       'oteldemo.PaymentService/Charge', 'charge',\n",
              "       'grpc.oteldemo.PaymentService/Charge',\n",
              "       'oteldemo.ShippingService/ShipOrder',\n",
              "       'oteldemo.CartService/EmptyCart', 'POST /send_order_confirmation',\n",
              "       'send_email', 'sinatra.render_template', 'orders send',\n",
              "       'orders receive', 'orders process',\n",
              "       'grpc.oteldemo.AdService/GetAds', 'oteldemo.AdService/GetAds',\n",
              "       'getAdsByCategory', 'getRandomAds',\n",
              "       'grpc.oteldemo.RecommendationService/ListRecommendations',\n",
              "       'documentFetch', 'documentLoad', 'resourceFetch', 'fs existsSync',\n",
              "       'fs readdirSync', 'fs stat', 'fs open',\n",
              "       'grpc.oteldemo.ProductCatalogService/ListProducts',\n",
              "       'grpc.oteldemo.CurrencyService/GetSupportedCurrencies',\n",
              "       'CurrencyService/GetSupportedCurrencies', '/featureflags/:id/edit',\n",
              "       '/featureflags/:id', 'featureflagservice.repo.query',\n",
              "       '/featureflags', 'click'], dtype=object)"
            ]
          },
          "execution_count": 47,
          "metadata": {},
          "output_type": "execute_result"
        }
      ],
      "source": [
        "df['Name'].unique()"
      ]
    },
    {
      "cell_type": "markdown",
      "metadata": {
        "id": "U8X8-_QT7j4e"
      },
      "source": [
        "**Distribution Of Name**"
      ]
    },
    {
      "cell_type": "code",
      "execution_count": 14,
      "metadata": {
        "colab": {
          "base_uri": "https://localhost:8080/",
          "height": 896
        },
        "id": "tumuWPUZ5cfW",
        "outputId": "0218ae0c-06f8-49b8-a363-89c07f298572"
      },
      "outputs": [
        {
          "data": {
            "image/png": "[encoded data removed]",
            "text/plain": [
              "<Figure size 800x600 with 1 Axes>"
            ]
          },
          "metadata": {},
          "output_type": "display_data"
        }
      ],
      "source": [
        "plt.figure(figsize=(8,6))\n",
        "Name_counts = df['Name'].value_counts()\n",
        "top_10_Name = Name_counts.head(10)\n",
        "color_palette = sns.color_palette(\"Set2\")\n",
        "sns.barplot(x=top_10_Name.index, y=top_10_Name.values,palette=color_palette)\n",
        "plt.xlabel('Name')\n",
        "plt.ylabel('Count')\n",
        "plt.xticks(rotation=90)\n",
        "plt.title('Distribution of EndPoint')\n",
        "plt.show()"
      ]
    },
    {
      "cell_type": "markdown",
      "metadata": {
        "id": "CROxkFcL7xhv"
      },
      "source": [
        "Insights:\n",
        "\n",
        "From above we can see that most frequency is for HTTP GET."
      ]
    },
    {
      "cell_type": "code",
      "execution_count": null,
      "metadata": {
        "colab": {
          "base_uri": "https://localhost:8080/"
        },
        "id": "_g79gvUyGNSo",
        "outputId": "25ded8aa-e88f-42f4-dae0-6ed377483964"
      },
      "outputs": [
        {
          "name": "stdout",
          "output_type": "stream",
          "text": [
            "Number of occurrences of '/': 289\n"
          ]
        }
      ],
      "source": [
        "slash_count = (df['Name'] == '/').sum()\n",
        "# Print the count\n",
        "print(\"Number of occurrences of '/':\", slash_count)"
      ]
    },
    {
      "cell_type": "markdown",
      "metadata": {
        "id": "Cs4OwauVGufg"
      },
      "source": [
        "Insights:\n",
        "\n",
        "Find '/' value in  Name column, it represents a root or base operation or indicates the root endpoint of your service"
      ]
    },
    {
      "cell_type": "code",
      "execution_count": null,
      "metadata": {
        "colab": {
          "base_uri": "https://localhost:8080/"
        },
        "id": "kuvrBtc9HhMw",
        "outputId": "1875a037-0e15-465f-c757-1c2a01f6ccf3"
      },
      "outputs": [
        {
          "data": {
            "text/plain": [
              "2816        124\n",
              "4352        112\n",
              "3072        112\n",
              "4096        104\n",
              "7936         97\n",
              "           ... \n",
              "1572027       1\n",
              "18893502      1\n",
              "25780185      1\n",
              "34851584      1\n",
              "30845         1\n",
              "Name: durationNano, Length: 126244, dtype: int64"
            ]
          },
          "execution_count": 50,
          "metadata": {},
          "output_type": "execute_result"
        }
      ],
      "source": [
        "df['durationNano'].value_counts()"
      ]
    },
    {
      "cell_type": "code",
      "execution_count": null,
      "metadata": {
        "colab": {
          "base_uri": "https://localhost:8080/"
        },
        "id": "cwv6aEgNGsUU",
        "outputId": "79c2ff8f-aab5-4573-bdce-46687b59b776"
      },
      "outputs": [
        {
          "data": {
            "text/plain": [
              "126244"
            ]
          },
          "execution_count": 51,
          "metadata": {},
          "output_type": "execute_result"
        }
      ],
      "source": [
        "df['durationNano'].nunique()"
      ]
    },
    {
      "cell_type": "code",
      "execution_count": null,
      "metadata": {
        "colab": {
          "base_uri": "https://localhost:8080/"
        },
        "id": "toEHSbzJIIk9",
        "outputId": "032315b0-98b2-4069-9b14-06eb21e34378"
      },
      "outputs": [
        {
          "data": {
            "text/plain": [
              "array([ 887477,  481634,  213000, ..., 1016311,   34953,   30845])"
            ]
          },
          "execution_count": 52,
          "metadata": {},
          "output_type": "execute_result"
        }
      ],
      "source": [
        "df['durationNano'].unique()"
      ]
    },
    {
      "cell_type": "markdown",
      "metadata": {
        "id": "YDalaYuJ8IBW"
      },
      "source": [
        "**Distribution Of Duration**"
      ]
    },
    {
      "cell_type": "code",
      "execution_count": null,
      "metadata": {
        "colab": {
          "base_uri": "https://localhost:8080/",
          "height": 588
        },
        "id": "by55FAAZILMQ",
        "outputId": "4f30f646-5d43-48ab-8dd0-5f7076a94fa4"
      },
      "outputs": [
        {
          "data": {
            "image/png": "[encoded data removed]",
            "text/plain": [
              "<Figure size 1000x600 with 1 Axes>"
            ]
          },
          "metadata": {},
          "output_type": "display_data"
        }
      ],
      "source": [
        "## finding distribution of duration to find the span durations.\n",
        "plt.figure(figsize=(10,6))\n",
        "durationNano_counts = df['durationNano'].value_counts()\n",
        "top_10_durationNano = durationNano_counts.head(10)\n",
        "color_palette = sns.color_palette(\"dark\")\n",
        "sns.barplot(x=top_10_durationNano.index, y=top_10_durationNano.values,palette=color_palette)\n",
        "plt.xlabel('durationNano')\n",
        "plt.ylabel('Count')\n",
        "plt.xticks(rotation=70)\n",
        "plt.title('Distribution of duration')\n",
        "plt.show()"
      ]
    },
    {
      "cell_type": "markdown",
      "metadata": {
        "id": "-RYPEY0-8h7p"
      },
      "source": [
        "**Insights**:\n",
        "\n",
        "From above we can see that most of the span duration is about 2816 nanoseconds.\n"
      ]
    },
    {
      "cell_type": "markdown",
      "metadata": {
        "id": "IaVRPKM39v_E"
      },
      "source": [
        "**Duration Analysis using Service and Name.**"
      ]
    },
    {
      "cell_type": "code",
      "execution_count": 85,
      "metadata": {
        "colab": {
          "base_uri": "https://localhost:8080/",
          "height": 363
        },
        "id": "dytlv-PQTqiC",
        "outputId": "c8d0bc8f-192a-4af3-dff5-692e9ac6c5cf"
      },
      "outputs": [
        {
          "data": {
            "application/vnd.google.colaboratory.intrinsic+json": {
              "summary": "{\n  \"name\": \"top_10\",\n  \"rows\": 10,\n  \"fields\": [\n    {\n      \"column\": \"serviceName\",\n      \"properties\": {\n        \"dtype\": \"string\",\n        \"num_unique_values\": 5,\n        \"samples\": [\n          \"frontend\",\n          \"recommendationservice\",\n          \"frontend-proxy\"\n        ],\n        \"semantic_type\": \"\",\n        \"description\": \"\"\n      }\n    },\n    {\n      \"column\": \"Name\",\n      \"properties\": {\n        \"dtype\": \"string\",\n        \"num_unique_values\": 8,\n        \"samples\": [\n          \"HTTP POST\",\n          \"grpc.oteldemo.CheckoutService/PlaceOrder\",\n          \"HTTP GET\"\n        ],\n        \"semantic_type\": \"\",\n        \"description\": \"\"\n      }\n    },\n    {\n      \"column\": \"durationNano\",\n      \"properties\": {\n        \"dtype\": \"number\",\n        \"std\": 91737799767,\n        \"min\": 20214126037,\n        \"max\": 255238501897,\n        \"num_unique_values\": 10,\n        \"samples\": [\n          21804552059,\n          247261768704,\n          38005561000\n        ],\n        \"semantic_type\": \"\",\n        \"description\": \"\"\n      }\n    }\n  ]\n}",
              "type": "dataframe",
              "variable_name": "top_10"
            },
            "text/html": [
              "\n",
              "  <div id=\"df-8bb12097-0a65-4795-8784-8c63b833761a\" class=\"colab-df-container\">\n",
              "    <div>\n",
              "<style scoped>\n",
              "    .dataframe tbody tr th:only-of-type {\n",
              "        vertical-align: middle;\n",
              "    }\n",
              "\n",
              "    .dataframe tbody tr th {\n",
              "        vertical-align: top;\n",
              "    }\n",
              "\n",
              "    .dataframe thead th {\n",
              "        text-align: right;\n",
              "    }\n",
              "</style>\n",
              "<table border=\"1\" class=\"dataframe\">\n",
              "  <thead>\n",
              "    <tr style=\"text-align: right;\">\n",
              "      <th></th>\n",
              "      <th>serviceName</th>\n",
              "      <th>Name</th>\n",
              "      <th>durationNano</th>\n",
              "    </tr>\n",
              "  </thead>\n",
              "  <tbody>\n",
              "    <tr>\n",
              "      <th>61</th>\n",
              "      <td>loadgenerator</td>\n",
              "      <td>HTTP GET</td>\n",
              "      <td>255238501897</td>\n",
              "    </tr>\n",
              "    <tr>\n",
              "      <th>36</th>\n",
              "      <td>frontend</td>\n",
              "      <td>HTTP GET</td>\n",
              "      <td>247261768704</td>\n",
              "    </tr>\n",
              "    <tr>\n",
              "      <th>37</th>\n",
              "      <td>frontend</td>\n",
              "      <td>HTTP POST</td>\n",
              "      <td>88721778432</td>\n",
              "    </tr>\n",
              "    <tr>\n",
              "      <th>62</th>\n",
              "      <td>loadgenerator</td>\n",
              "      <td>HTTP POST</td>\n",
              "      <td>56116945542</td>\n",
              "    </tr>\n",
              "    <tr>\n",
              "      <th>51</th>\n",
              "      <td>frontend</td>\n",
              "      <td>grpc.oteldemo.ProductCatalogService/GetProduct</td>\n",
              "      <td>43150328576</td>\n",
              "    </tr>\n",
              "    <tr>\n",
              "      <th>55</th>\n",
              "      <td>frontend-proxy</td>\n",
              "      <td>ingress</td>\n",
              "      <td>38005561000</td>\n",
              "    </tr>\n",
              "    <tr>\n",
              "      <th>53</th>\n",
              "      <td>frontend</td>\n",
              "      <td>grpc.oteldemo.RecommendationService/ListRecomm...</td>\n",
              "      <td>24394057216</td>\n",
              "    </tr>\n",
              "    <tr>\n",
              "      <th>49</th>\n",
              "      <td>frontend</td>\n",
              "      <td>grpc.oteldemo.CheckoutService/PlaceOrder</td>\n",
              "      <td>22834630912</td>\n",
              "    </tr>\n",
              "    <tr>\n",
              "      <th>15</th>\n",
              "      <td>checkoutservice</td>\n",
              "      <td>oteldemo.CheckoutService/PlaceOrder</td>\n",
              "      <td>21804552059</td>\n",
              "    </tr>\n",
              "    <tr>\n",
              "      <th>76</th>\n",
              "      <td>recommendationservice</td>\n",
              "      <td>/oteldemo.RecommendationService/ListRecommenda...</td>\n",
              "      <td>20214126037</td>\n",
              "    </tr>\n",
              "  </tbody>\n",
              "</table>\n",
              "</div>\n",
              "    <div class=\"colab-df-buttons\">\n",
              "\n",
              "  <div class=\"colab-df-container\">\n",
              "    <button class=\"colab-df-convert\" onclick=\"convertToInteractive('df-8bb12097-0a65-4795-8784-8c63b833761a')\"\n",
              "            title=\"Convert this dataframe to an interactive table.\"\n",
              "            style=\"display:none;\">\n",
              "\n",
              "  <svg xmlns=\"http://www.w3.org/2000/svg\" height=\"24px\" viewBox=\"0 -960 960 960\">\n",
              "    <path d=\"M120-120v-720h720v720H120Zm60-500h600v-160H180v160Zm220 220h160v-160H400v160Zm0 220h160v-160H400v160ZM180-400h160v-160H180v160Zm440 0h160v-160H620v160ZM180-180h160v-160H180v160Zm440 0h160v-160H620v160Z\"/>\n",
              "  </svg>\n",
              "    </button>\n",
              "\n",
              "  <style>\n",
              "    .colab-df-container {\n",
              "      display:flex;\n",
              "      gap: 12px;\n",
              "    }\n",
              "\n",
              "    .colab-df-convert {\n",
              "      background-color: #E8F0FE;\n",
              "      border: none;\n",
              "      border-radius: 50%;\n",
              "      cursor: pointer;\n",
              "      display: none;\n",
              "      fill: #1967D2;\n",
              "      height: 32px;\n",
              "      padding: 0 0 0 0;\n",
              "      width: 32px;\n",
              "    }\n",
              "\n",
              "    .colab-df-convert:hover {\n",
              "      background-color: #E2EBFA;\n",
              "      box-shadow: 0px 1px 2px rgba(60, 64, 67, 0.3), 0px 1px 3px 1px rgba(60, 64, 67, 0.15);\n",
              "      fill: #174EA6;\n",
              "    }\n",
              "\n",
              "    .colab-df-buttons div {\n",
              "      margin-bottom: 4px;\n",
              "    }\n",
              "\n",
              "    [theme=dark] .colab-df-convert {\n",
              "      background-color: #3B4455;\n",
              "      fill: #D2E3FC;\n",
              "    }\n",
              "\n",
              "    [theme=dark] .colab-df-convert:hover {\n",
              "      background-color: #434B5C;\n",
              "      box-shadow: 0px 1px 3px 1px rgba(0, 0, 0, 0.15);\n",
              "      filter: drop-shadow(0px 1px 2px rgba(0, 0, 0, 0.3));\n",
              "      fill: #FFFFFF;\n",
              "    }\n",
              "  </style>\n",
              "\n",
              "    <script>\n",
              "      const buttonEl =\n",
              "        document.querySelector('#df-8bb12097-0a65-4795-8784-8c63b833761a button.colab-df-convert');\n",
              "      buttonEl.style.display =\n",
              "        google.colab.kernel.accessAllowed ? 'block' : 'none';\n",
              "\n",
              "      async function convertToInteractive(key) {\n",
              "        const element = document.querySelector('#df-8bb12097-0a65-4795-8784-8c63b833761a');\n",
              "        const dataTable =\n",
              "          await google.colab.kernel.invokeFunction('convertToInteractive',\n",
              "                                                    [key], {});\n",
              "        if (!dataTable) return;\n",
              "\n",
              "        const docLinkHtml = 'Like what you see? Visit the ' +\n",
              "          '<a target=\"_blank\" href=https://colab.research.google.com/notebooks/data_table.ipynb>data table notebook</a>'\n",
              "          + ' to learn more about interactive tables.';\n",
              "        element.innerHTML = '';\n",
              "        dataTable['output_type'] = 'display_data';\n",
              "        await google.colab.output.renderOutput(dataTable, element);\n",
              "        const docLink = document.createElement('div');\n",
              "        docLink.innerHTML = docLinkHtml;\n",
              "        element.appendChild(docLink);\n",
              "      }\n",
              "    </script>\n",
              "  </div>\n",
              "\n",
              "\n",
              "<div id=\"df-3a982370-9560-42cf-8d4a-b289ead686b2\">\n",
              "  <button class=\"colab-df-quickchart\" onclick=\"quickchart('df-3a982370-9560-42cf-8d4a-b289ead686b2')\"\n",
              "            title=\"Suggest charts\"\n",
              "            style=\"display:none;\">\n",
              "\n",
              "<svg xmlns=\"http://www.w3.org/2000/svg\" height=\"24px\"viewBox=\"0 0 24 24\"\n",
              "     width=\"24px\">\n",
              "    <g>\n",
              "        <path d=\"M19 3H5c-1.1 0-2 .9-2 2v14c0 1.1.9 2 2 2h14c1.1 0 2-.9 2-2V5c0-1.1-.9-2-2-2zM9 17H7v-7h2v7zm4 0h-2V7h2v10zm4 0h-2v-4h2v4z\"/>\n",
              "    </g>\n",
              "</svg>\n",
              "  </button>\n",
              "\n",
              "<style>\n",
              "  .colab-df-quickchart {\n",
              "      --bg-color: #E8F0FE;\n",
              "      --fill-color: #1967D2;\n",
              "      --hover-bg-color: #E2EBFA;\n",
              "      --hover-fill-color: #174EA6;\n",
              "      --disabled-fill-color: #AAA;\n",
              "      --disabled-bg-color: #DDD;\n",
              "  }\n",
              "\n",
              "  [theme=dark] .colab-df-quickchart {\n",
              "      --bg-color: #3B4455;\n",
              "      --fill-color: #D2E3FC;\n",
              "      --hover-bg-color: #434B5C;\n",
              "      --hover-fill-color: #FFFFFF;\n",
              "      --disabled-bg-color: #3B4455;\n",
              "      --disabled-fill-color: #666;\n",
              "  }\n",
              "\n",
              "  .colab-df-quickchart {\n",
              "    background-color: var(--bg-color);\n",
              "    border: none;\n",
              "    border-radius: 50%;\n",
              "    cursor: pointer;\n",
              "    display: none;\n",
              "    fill: var(--fill-color);\n",
              "    height: 32px;\n",
              "    padding: 0;\n",
              "    width: 32px;\n",
              "  }\n",
              "\n",
              "  .colab-df-quickchart:hover {\n",
              "    background-color: var(--hover-bg-color);\n",
              "    box-shadow: 0 1px 2px rgba(60, 64, 67, 0.3), 0 1px 3px 1px rgba(60, 64, 67, 0.15);\n",
              "    fill: var(--button-hover-fill-color);\n",
              "  }\n",
              "\n",
              "  .colab-df-quickchart-complete:disabled,\n",
              "  .colab-df-quickchart-complete:disabled:hover {\n",
              "    background-color: var(--disabled-bg-color);\n",
              "    fill: var(--disabled-fill-color);\n",
              "    box-shadow: none;\n",
              "  }\n",
              "\n",
              "  .colab-df-spinner {\n",
              "    border: 2px solid var(--fill-color);\n",
              "    border-color: transparent;\n",
              "    border-bottom-color: var(--fill-color);\n",
              "    animation:\n",
              "      spin 1s steps(1) infinite;\n",
              "  }\n",
              "\n",
              "  @keyframes spin {\n",
              "    0% {\n",
              "      border-color: transparent;\n",
              "      border-bottom-color: var(--fill-color);\n",
              "      border-left-color: var(--fill-color);\n",
              "    }\n",
              "    20% {\n",
              "      border-color: transparent;\n",
              "      border-left-color: var(--fill-color);\n",
              "      border-top-color: var(--fill-color);\n",
              "    }\n",
              "    30% {\n",
              "      border-color: transparent;\n",
              "      border-left-color: var(--fill-color);\n",
              "      border-top-color: var(--fill-color);\n",
              "      border-right-color: var(--fill-color);\n",
              "    }\n",
              "    40% {\n",
              "      border-color: transparent;\n",
              "      border-right-color: var(--fill-color);\n",
              "      border-top-color: var(--fill-color);\n",
              "    }\n",
              "    60% {\n",
              "      border-color: transparent;\n",
              "      border-right-color: var(--fill-color);\n",
              "    }\n",
              "    80% {\n",
              "      border-color: transparent;\n",
              "      border-right-color: var(--fill-color);\n",
              "      border-bottom-color: var(--fill-color);\n",
              "    }\n",
              "    90% {\n",
              "      border-color: transparent;\n",
              "      border-bottom-color: var(--fill-color);\n",
              "    }\n",
              "  }\n",
              "</style>\n",
              "\n",
              "  <script>\n",
              "    async function quickchart(key) {\n",
              "      const quickchartButtonEl =\n",
              "        document.querySelector('#' + key + ' button');\n",
              "      quickchartButtonEl.disabled = true;  // To prevent multiple clicks.\n",
              "      quickchartButtonEl.classList.add('colab-df-spinner');\n",
              "      try {\n",
              "        const charts = await google.colab.kernel.invokeFunction(\n",
              "            'suggestCharts', [key], {});\n",
              "      } catch (error) {\n",
              "        console.error('Error during call to suggestCharts:', error);\n",
              "      }\n",
              "      quickchartButtonEl.classList.remove('colab-df-spinner');\n",
              "      quickchartButtonEl.classList.add('colab-df-quickchart-complete');\n",
              "    }\n",
              "    (() => {\n",
              "      let quickchartButtonEl =\n",
              "        document.querySelector('#df-3a982370-9560-42cf-8d4a-b289ead686b2 button');\n",
              "      quickchartButtonEl.style.display =\n",
              "        google.colab.kernel.accessAllowed ? 'block' : 'none';\n",
              "    })();\n",
              "  </script>\n",
              "</div>\n",
              "\n",
              "  <div id=\"id_3bb20531-fa01-475c-b202-2703e4065d5c\">\n",
              "    <style>\n",
              "      .colab-df-generate {\n",
              "        background-color: #E8F0FE;\n",
              "        border: none;\n",
              "        border-radius: 50%;\n",
              "        cursor: pointer;\n",
              "        display: none;\n",
              "        fill: #1967D2;\n",
              "        height: 32px;\n",
              "        padding: 0 0 0 0;\n",
              "        width: 32px;\n",
              "      }\n",
              "\n",
              "      .colab-df-generate:hover {\n",
              "        background-color: #E2EBFA;\n",
              "        box-shadow: 0px 1px 2px rgba(60, 64, 67, 0.3), 0px 1px 3px 1px rgba(60, 64, 67, 0.15);\n",
              "        fill: #174EA6;\n",
              "      }\n",
              "\n",
              "      [theme=dark] .colab-df-generate {\n",
              "        background-color: #3B4455;\n",
              "        fill: #D2E3FC;\n",
              "      }\n",
              "\n",
              "      [theme=dark] .colab-df-generate:hover {\n",
              "        background-color: #434B5C;\n",
              "        box-shadow: 0px 1px 3px 1px rgba(0, 0, 0, 0.15);\n",
              "        filter: drop-shadow(0px 1px 2px rgba(0, 0, 0, 0.3));\n",
              "        fill: #FFFFFF;\n",
              "      }\n",
              "    </style>\n",
              "    <button class=\"colab-df-generate\" onclick=\"generateWithVariable('top_10')\"\n",
              "            title=\"Generate code using this dataframe.\"\n",
              "            style=\"display:none;\">\n",
              "\n",
              "  <svg xmlns=\"http://www.w3.org/2000/svg\" height=\"24px\"viewBox=\"0 0 24 24\"\n",
              "       width=\"24px\">\n",
              "    <path d=\"M7,19H8.4L18.45,9,17,7.55,7,17.6ZM5,21V16.75L18.45,3.32a2,2,0,0,1,2.83,0l1.4,1.43a1.91,1.91,0,0,1,.58,1.4,1.91,1.91,0,0,1-.58,1.4L9.25,21ZM18.45,9,17,7.55Zm-12,3A5.31,5.31,0,0,0,4.9,8.1,5.31,5.31,0,0,0,1,6.5,5.31,5.31,0,0,0,4.9,4.9,5.31,5.31,0,0,0,6.5,1,5.31,5.31,0,0,0,8.1,4.9,5.31,5.31,0,0,0,12,6.5,5.46,5.46,0,0,0,6.5,12Z\"/>\n",
              "  </svg>\n",
              "    </button>\n",
              "    <script>\n",
              "      (() => {\n",
              "      const buttonEl =\n",
              "        document.querySelector('#id_3bb20531-fa01-475c-b202-2703e4065d5c button.colab-df-generate');\n",
              "      buttonEl.style.display =\n",
              "        google.colab.kernel.accessAllowed ? 'block' : 'none';\n",
              "\n",
              "      buttonEl.onclick = () => {\n",
              "        google.colab.notebook.generateWithVariable('top_10');\n",
              "      }\n",
              "      })();\n",
              "    </script>\n",
              "  </div>\n",
              "\n",
              "    </div>\n",
              "  </div>\n"
            ],
            "text/plain": [
              "              serviceName                                               Name  \\\n",
              "61          loadgenerator                                           HTTP GET   \n",
              "36               frontend                                           HTTP GET   \n",
              "37               frontend                                          HTTP POST   \n",
              "62          loadgenerator                                          HTTP POST   \n",
              "51               frontend     grpc.oteldemo.ProductCatalogService/GetProduct   \n",
              "55         frontend-proxy                                            ingress   \n",
              "53               frontend  grpc.oteldemo.RecommendationService/ListRecomm...   \n",
              "49               frontend           grpc.oteldemo.CheckoutService/PlaceOrder   \n",
              "15        checkoutservice                oteldemo.CheckoutService/PlaceOrder   \n",
              "76  recommendationservice  /oteldemo.RecommendationService/ListRecommenda...   \n",
              "\n",
              "    durationNano  \n",
              "61  255238501897  \n",
              "36  247261768704  \n",
              "37   88721778432  \n",
              "62   56116945542  \n",
              "51   43150328576  \n",
              "55   38005561000  \n",
              "53   24394057216  \n",
              "49   22834630912  \n",
              "15   21804552059  \n",
              "76   20214126037  "
            ]
          },
          "execution_count": 85,
          "metadata": {},
          "output_type": "execute_result"
        }
      ],
      "source": [
        "## Duration Analysis using Service and Name to find the duration taken by the same service for different calls.\n",
        "service_function_duration = df.groupby(['serviceName', 'Name'])['durationNano'].sum().reset_index()\n",
        "service_function_duration_sorted=service_function_duration.sort_values(by='durationNano',ascending=False)\n",
        "top_10=service_function_duration_sorted.head(10)\n",
        "top_10"
      ]
    },
    {
      "cell_type": "markdown",
      "metadata": {
        "id": "GV5MWZK_9q1d"
      },
      "source": [
        "**Insights:**\n",
        "\n",
        "1)From above we can see  that most duration is taken by loadgenerator\tfor the call HTTP GET.\n",
        "\n",
        "2)Secondly,frondend service for  HTTP GET took more duration than HTTP POST.\n"
      ]
    },
    {
      "cell_type": "code",
      "execution_count": 90,
      "metadata": {
        "colab": {
          "base_uri": "https://localhost:8080/",
          "height": 769
        },
        "id": "dm0Ly_yihfzE",
        "outputId": "6733181e-8776-488f-8c07-519b88d17133"
      },
      "outputs": [
        {
          "data": {
            "image/png": "[encoded data removed]",
            "text/plain": [
              "<Figure size 1000x800 with 1 Axes>"
            ]
          },
          "metadata": {},
          "output_type": "display_data"
        }
      ],
      "source": [
        "plt.figure(figsize=(10, 8))\n",
        "## select service name whose diffrent duration calls needs to be find\n",
        "frontend_data = service_function_duration[service_function_duration['serviceName'] == 'frontend']\n",
        "\n",
        "# Sort the data by durationNano and select the top 5 rows\n",
        "top_5_frontend = frontend_data.nlargest(5, 'durationNano')\n",
        "\n",
        "# Plot the bar plot\n",
        "sns.barplot(data=top_5_frontend, x=\"Name\", y=\"durationNano\", palette=\"viridis\")\n",
        "plt.title(\"Top 5 Durations of Calls in Frontend Service\")\n",
        "plt.xlabel(\"Function\")\n",
        "plt.ylabel(\"Duration (nano)\")\n",
        "plt.xticks(rotation=67)\n",
        "plt.tight_layout()\n",
        "plt.show()"
      ]
    },
    {
      "cell_type": "markdown",
      "metadata": {
        "id": "nxZHeIiWXpty"
      },
      "source": [
        "Insights:\n",
        "\n",
        "1)From the above barchart we get to know the different durations for frondend service calls.\n",
        "\n",
        "2)Most duration is taken for HTTP GET.\n"
      ]
    },
    {
      "cell_type": "markdown",
      "metadata": {
        "id": "4GFNgUx2Ygzp"
      },
      "source": [
        "**Top 5 frequently invoked service and endpoint combination.**"
      ]
    },
    {
      "cell_type": "code",
      "execution_count": 16,
      "metadata": {
        "colab": {
          "base_uri": "https://localhost:8080/",
          "height": 206
        },
        "id": "5FZY1b54UwIi",
        "outputId": "a766af1c-193f-4878-d4a9-ae8b54d2d4df"
      },
      "outputs": [
        {
          "data": {
            "application/vnd.google.colaboratory.intrinsic+json": {
              "summary": "{\n  \"name\": \"top_5\",\n  \"rows\": 5,\n  \"fields\": [\n    {\n      \"column\": \"serviceName\",\n      \"properties\": {\n        \"dtype\": \"string\",\n        \"num_unique_values\": 4,\n        \"samples\": [\n          \"productcatalogservice\",\n          \"cartservice\",\n          \"frontend\"\n        ],\n        \"semantic_type\": \"\",\n        \"description\": \"\"\n      }\n    },\n    {\n      \"column\": \"Name\",\n      \"properties\": {\n        \"dtype\": \"string\",\n        \"num_unique_values\": 4,\n        \"samples\": [\n          \"oteldemo.ProductCatalogService/GetProduct\",\n          \"HGET\",\n          \"HTTP GET\"\n        ],\n        \"semantic_type\": \"\",\n        \"description\": \"\"\n      }\n    },\n    {\n      \"column\": \"Frequency\",\n      \"properties\": {\n        \"dtype\": \"number\",\n        \"std\": 7423,\n        \"min\": 8440,\n        \"max\": 28357,\n        \"num_unique_values\": 5,\n        \"samples\": [\n          17601,\n          8440,\n          15741\n        ],\n        \"semantic_type\": \"\",\n        \"description\": \"\"\n      }\n    }\n  ]\n}",
              "type": "dataframe",
              "variable_name": "top_5"
            },
            "text/html": [
              "\n",
              "  <div id=\"df-62adb834-6594-4cac-9640-443cc264a9ec\" class=\"colab-df-container\">\n",
              "    <div>\n",
              "<style scoped>\n",
              "    .dataframe tbody tr th:only-of-type {\n",
              "        vertical-align: middle;\n",
              "    }\n",
              "\n",
              "    .dataframe tbody tr th {\n",
              "        vertical-align: top;\n",
              "    }\n",
              "\n",
              "    .dataframe thead th {\n",
              "        text-align: right;\n",
              "    }\n",
              "</style>\n",
              "<table border=\"1\" class=\"dataframe\">\n",
              "  <thead>\n",
              "    <tr style=\"text-align: right;\">\n",
              "      <th></th>\n",
              "      <th>serviceName</th>\n",
              "      <th>Name</th>\n",
              "      <th>Frequency</th>\n",
              "    </tr>\n",
              "  </thead>\n",
              "  <tbody>\n",
              "    <tr>\n",
              "      <th>36</th>\n",
              "      <td>frontend</td>\n",
              "      <td>HTTP GET</td>\n",
              "      <td>28357</td>\n",
              "    </tr>\n",
              "    <tr>\n",
              "      <th>69</th>\n",
              "      <td>productcatalogservice</td>\n",
              "      <td>oteldemo.ProductCatalogService/GetProduct</td>\n",
              "      <td>17601</td>\n",
              "    </tr>\n",
              "    <tr>\n",
              "      <th>51</th>\n",
              "      <td>frontend</td>\n",
              "      <td>grpc.oteldemo.ProductCatalogService/GetProduct</td>\n",
              "      <td>15741</td>\n",
              "    </tr>\n",
              "    <tr>\n",
              "      <th>61</th>\n",
              "      <td>loadgenerator</td>\n",
              "      <td>HTTP GET</td>\n",
              "      <td>12874</td>\n",
              "    </tr>\n",
              "    <tr>\n",
              "      <th>6</th>\n",
              "      <td>cartservice</td>\n",
              "      <td>HGET</td>\n",
              "      <td>8440</td>\n",
              "    </tr>\n",
              "  </tbody>\n",
              "</table>\n",
              "</div>\n",
              "    <div class=\"colab-df-buttons\">\n",
              "\n",
              "  <div class=\"colab-df-container\">\n",
              "    <button class=\"colab-df-convert\" onclick=\"convertToInteractive('df-62adb834-6594-4cac-9640-443cc264a9ec')\"\n",
              "            title=\"Convert this dataframe to an interactive table.\"\n",
              "            style=\"display:none;\">\n",
              "\n",
              "  <svg xmlns=\"http://www.w3.org/2000/svg\" height=\"24px\" viewBox=\"0 -960 960 960\">\n",
              "    <path d=\"M120-120v-720h720v720H120Zm60-500h600v-160H180v160Zm220 220h160v-160H400v160Zm0 220h160v-160H400v160ZM180-400h160v-160H180v160Zm440 0h160v-160H620v160ZM180-180h160v-160H180v160Zm440 0h160v-160H620v160Z\"/>\n",
              "  </svg>\n",
              "    </button>\n",
              "\n",
              "  <style>\n",
              "    .colab-df-container {\n",
              "      display:flex;\n",
              "      gap: 12px;\n",
              "    }\n",
              "\n",
              "    .colab-df-convert {\n",
              "      background-color: #E8F0FE;\n",
              "      border: none;\n",
              "      border-radius: 50%;\n",
              "      cursor: pointer;\n",
              "      display: none;\n",
              "      fill: #1967D2;\n",
              "      height: 32px;\n",
              "      padding: 0 0 0 0;\n",
              "      width: 32px;\n",
              "    }\n",
              "\n",
              "    .colab-df-convert:hover {\n",
              "      background-color: #E2EBFA;\n",
              "      box-shadow: 0px 1px 2px rgba(60, 64, 67, 0.3), 0px 1px 3px 1px rgba(60, 64, 67, 0.15);\n",
              "      fill: #174EA6;\n",
              "    }\n",
              "\n",
              "    .colab-df-buttons div {\n",
              "      margin-bottom: 4px;\n",
              "    }\n",
              "\n",
              "    [theme=dark] .colab-df-convert {\n",
              "      background-color: #3B4455;\n",
              "      fill: #D2E3FC;\n",
              "    }\n",
              "\n",
              "    [theme=dark] .colab-df-convert:hover {\n",
              "      background-color: #434B5C;\n",
              "      box-shadow: 0px 1px 3px 1px rgba(0, 0, 0, 0.15);\n",
              "      filter: drop-shadow(0px 1px 2px rgba(0, 0, 0, 0.3));\n",
              "      fill: #FFFFFF;\n",
              "    }\n",
              "  </style>\n",
              "\n",
              "    <script>\n",
              "      const buttonEl =\n",
              "        document.querySelector('#df-62adb834-6594-4cac-9640-443cc264a9ec button.colab-df-convert');\n",
              "      buttonEl.style.display =\n",
              "        google.colab.kernel.accessAllowed ? 'block' : 'none';\n",
              "\n",
              "      async function convertToInteractive(key) {\n",
              "        const element = document.querySelector('#df-62adb834-6594-4cac-9640-443cc264a9ec');\n",
              "        const dataTable =\n",
              "          await google.colab.kernel.invokeFunction('convertToInteractive',\n",
              "                                                    [key], {});\n",
              "        if (!dataTable) return;\n",
              "\n",
              "        const docLinkHtml = 'Like what you see? Visit the ' +\n",
              "          '<a target=\"_blank\" href=https://colab.research.google.com/notebooks/data_table.ipynb>data table notebook</a>'\n",
              "          + ' to learn more about interactive tables.';\n",
              "        element.innerHTML = '';\n",
              "        dataTable['output_type'] = 'display_data';\n",
              "        await google.colab.output.renderOutput(dataTable, element);\n",
              "        const docLink = document.createElement('div');\n",
              "        docLink.innerHTML = docLinkHtml;\n",
              "        element.appendChild(docLink);\n",
              "      }\n",
              "    </script>\n",
              "  </div>\n",
              "\n",
              "\n",
              "<div id=\"df-a9383962-cf79-4999-b18f-26842bda6b9d\">\n",
              "  <button class=\"colab-df-quickchart\" onclick=\"quickchart('df-a9383962-cf79-4999-b18f-26842bda6b9d')\"\n",
              "            title=\"Suggest charts\"\n",
              "            style=\"display:none;\">\n",
              "\n",
              "<svg xmlns=\"http://www.w3.org/2000/svg\" height=\"24px\"viewBox=\"0 0 24 24\"\n",
              "     width=\"24px\">\n",
              "    <g>\n",
              "        <path d=\"M19 3H5c-1.1 0-2 .9-2 2v14c0 1.1.9 2 2 2h14c1.1 0 2-.9 2-2V5c0-1.1-.9-2-2-2zM9 17H7v-7h2v7zm4 0h-2V7h2v10zm4 0h-2v-4h2v4z\"/>\n",
              "    </g>\n",
              "</svg>\n",
              "  </button>\n",
              "\n",
              "<style>\n",
              "  .colab-df-quickchart {\n",
              "      --bg-color: #E8F0FE;\n",
              "      --fill-color: #1967D2;\n",
              "      --hover-bg-color: #E2EBFA;\n",
              "      --hover-fill-color: #174EA6;\n",
              "      --disabled-fill-color: #AAA;\n",
              "      --disabled-bg-color: #DDD;\n",
              "  }\n",
              "\n",
              "  [theme=dark] .colab-df-quickchart {\n",
              "      --bg-color: #3B4455;\n",
              "      --fill-color: #D2E3FC;\n",
              "      --hover-bg-color: #434B5C;\n",
              "      --hover-fill-color: #FFFFFF;\n",
              "      --disabled-bg-color: #3B4455;\n",
              "      --disabled-fill-color: #666;\n",
              "  }\n",
              "\n",
              "  .colab-df-quickchart {\n",
              "    background-color: var(--bg-color);\n",
              "    border: none;\n",
              "    border-radius: 50%;\n",
              "    cursor: pointer;\n",
              "    display: none;\n",
              "    fill: var(--fill-color);\n",
              "    height: 32px;\n",
              "    padding: 0;\n",
              "    width: 32px;\n",
              "  }\n",
              "\n",
              "  .colab-df-quickchart:hover {\n",
              "    background-color: var(--hover-bg-color);\n",
              "    box-shadow: 0 1px 2px rgba(60, 64, 67, 0.3), 0 1px 3px 1px rgba(60, 64, 67, 0.15);\n",
              "    fill: var(--button-hover-fill-color);\n",
              "  }\n",
              "\n",
              "  .colab-df-quickchart-complete:disabled,\n",
              "  .colab-df-quickchart-complete:disabled:hover {\n",
              "    background-color: var(--disabled-bg-color);\n",
              "    fill: var(--disabled-fill-color);\n",
              "    box-shadow: none;\n",
              "  }\n",
              "\n",
              "  .colab-df-spinner {\n",
              "    border: 2px solid var(--fill-color);\n",
              "    border-color: transparent;\n",
              "    border-bottom-color: var(--fill-color);\n",
              "    animation:\n",
              "      spin 1s steps(1) infinite;\n",
              "  }\n",
              "\n",
              "  @keyframes spin {\n",
              "    0% {\n",
              "      border-color: transparent;\n",
              "      border-bottom-color: var(--fill-color);\n",
              "      border-left-color: var(--fill-color);\n",
              "    }\n",
              "    20% {\n",
              "      border-color: transparent;\n",
              "      border-left-color: var(--fill-color);\n",
              "      border-top-color: var(--fill-color);\n",
              "    }\n",
              "    30% {\n",
              "      border-color: transparent;\n",
              "      border-left-color: var(--fill-color);\n",
              "      border-top-color: var(--fill-color);\n",
              "      border-right-color: var(--fill-color);\n",
              "    }\n",
              "    40% {\n",
              "      border-color: transparent;\n",
              "      border-right-color: var(--fill-color);\n",
              "      border-top-color: var(--fill-color);\n",
              "    }\n",
              "    60% {\n",
              "      border-color: transparent;\n",
              "      border-right-color: var(--fill-color);\n",
              "    }\n",
              "    80% {\n",
              "      border-color: transparent;\n",
              "      border-right-color: var(--fill-color);\n",
              "      border-bottom-color: var(--fill-color);\n",
              "    }\n",
              "    90% {\n",
              "      border-color: transparent;\n",
              "      border-bottom-color: var(--fill-color);\n",
              "    }\n",
              "  }\n",
              "</style>\n",
              "\n",
              "  <script>\n",
              "    async function quickchart(key) {\n",
              "      const quickchartButtonEl =\n",
              "        document.querySelector('#' + key + ' button');\n",
              "      quickchartButtonEl.disabled = true;  // To prevent multiple clicks.\n",
              "      quickchartButtonEl.classList.add('colab-df-spinner');\n",
              "      try {\n",
              "        const charts = await google.colab.kernel.invokeFunction(\n",
              "            'suggestCharts', [key], {});\n",
              "      } catch (error) {\n",
              "        console.error('Error during call to suggestCharts:', error);\n",
              "      }\n",
              "      quickchartButtonEl.classList.remove('colab-df-spinner');\n",
              "      quickchartButtonEl.classList.add('colab-df-quickchart-complete');\n",
              "    }\n",
              "    (() => {\n",
              "      let quickchartButtonEl =\n",
              "        document.querySelector('#df-a9383962-cf79-4999-b18f-26842bda6b9d button');\n",
              "      quickchartButtonEl.style.display =\n",
              "        google.colab.kernel.accessAllowed ? 'block' : 'none';\n",
              "    })();\n",
              "  </script>\n",
              "</div>\n",
              "\n",
              "  <div id=\"id_fccc2c68-b0ff-42f4-bf41-c8867562c691\">\n",
              "    <style>\n",
              "      .colab-df-generate {\n",
              "        background-color: #E8F0FE;\n",
              "        border: none;\n",
              "        border-radius: 50%;\n",
              "        cursor: pointer;\n",
              "        display: none;\n",
              "        fill: #1967D2;\n",
              "        height: 32px;\n",
              "        padding: 0 0 0 0;\n",
              "        width: 32px;\n",
              "      }\n",
              "\n",
              "      .colab-df-generate:hover {\n",
              "        background-color: #E2EBFA;\n",
              "        box-shadow: 0px 1px 2px rgba(60, 64, 67, 0.3), 0px 1px 3px 1px rgba(60, 64, 67, 0.15);\n",
              "        fill: #174EA6;\n",
              "      }\n",
              "\n",
              "      [theme=dark] .colab-df-generate {\n",
              "        background-color: #3B4455;\n",
              "        fill: #D2E3FC;\n",
              "      }\n",
              "\n",
              "      [theme=dark] .colab-df-generate:hover {\n",
              "        background-color: #434B5C;\n",
              "        box-shadow: 0px 1px 3px 1px rgba(0, 0, 0, 0.15);\n",
              "        filter: drop-shadow(0px 1px 2px rgba(0, 0, 0, 0.3));\n",
              "        fill: #FFFFFF;\n",
              "      }\n",
              "    </style>\n",
              "    <button class=\"colab-df-generate\" onclick=\"generateWithVariable('top_5')\"\n",
              "            title=\"Generate code using this dataframe.\"\n",
              "            style=\"display:none;\">\n",
              "\n",
              "  <svg xmlns=\"http://www.w3.org/2000/svg\" height=\"24px\"viewBox=\"0 0 24 24\"\n",
              "       width=\"24px\">\n",
              "    <path d=\"M7,19H8.4L18.45,9,17,7.55,7,17.6ZM5,21V16.75L18.45,3.32a2,2,0,0,1,2.83,0l1.4,1.43a1.91,1.91,0,0,1,.58,1.4,1.91,1.91,0,0,1-.58,1.4L9.25,21ZM18.45,9,17,7.55Zm-12,3A5.31,5.31,0,0,0,4.9,8.1,5.31,5.31,0,0,0,1,6.5,5.31,5.31,0,0,0,4.9,4.9,5.31,5.31,0,0,0,6.5,1,5.31,5.31,0,0,0,8.1,4.9,5.31,5.31,0,0,0,12,6.5,5.46,5.46,0,0,0,6.5,12Z\"/>\n",
              "  </svg>\n",
              "    </button>\n",
              "    <script>\n",
              "      (() => {\n",
              "      const buttonEl =\n",
              "        document.querySelector('#id_fccc2c68-b0ff-42f4-bf41-c8867562c691 button.colab-df-generate');\n",
              "      buttonEl.style.display =\n",
              "        google.colab.kernel.accessAllowed ? 'block' : 'none';\n",
              "\n",
              "      buttonEl.onclick = () => {\n",
              "        google.colab.notebook.generateWithVariable('top_5');\n",
              "      }\n",
              "      })();\n",
              "    </script>\n",
              "  </div>\n",
              "\n",
              "    </div>\n",
              "  </div>\n"
            ],
            "text/plain": [
              "              serviceName                                            Name  \\\n",
              "36               frontend                                        HTTP GET   \n",
              "69  productcatalogservice       oteldemo.ProductCatalogService/GetProduct   \n",
              "51               frontend  grpc.oteldemo.ProductCatalogService/GetProduct   \n",
              "61          loadgenerator                                        HTTP GET   \n",
              "6             cartservice                                            HGET   \n",
              "\n",
              "    Frequency  \n",
              "36      28357  \n",
              "69      17601  \n",
              "51      15741  \n",
              "61      12874  \n",
              "6        8440  "
            ]
          },
          "execution_count": 16,
          "metadata": {},
          "output_type": "execute_result"
        }
      ],
      "source": [
        "##Counting the frequency of each service and endpoint combination to identify which services and endpoints are most frequently invoked.\n",
        "\n",
        "## Using group by function to  group our dataframe based on serviceName and Name ,it calculates the size of each group (i.e., the number of rows in each group)\n",
        "\n",
        "service_endpoint_frequency = df.groupby(['serviceName', 'Name']).size().reset_index(name='Frequency')\n",
        "\n",
        "## sorting based on frequency\n",
        "\n",
        "service_endpoint_frequency_sorted=service_endpoint_frequency.sort_values(by='Frequency', ascending=False)\n",
        "\n",
        "## selecting top 5 values\n",
        "\n",
        "top_5=service_endpoint_frequency_sorted.head()\n",
        "top_5"
      ]
    },
    {
      "cell_type": "code",
      "execution_count": 17,
      "metadata": {
        "colab": {
          "base_uri": "https://localhost:8080/",
          "height": 607
        },
        "id": "mYXNybFIUxs2",
        "outputId": "32a50b24-3c15-46ae-9a7f-3c9b4fa0656b"
      },
      "outputs": [
        {
          "data": {
            "image/png": "[encoded data removed]",
            "text/plain": [
              "<Figure size 800x600 with 1 Axes>"
            ]
          },
          "metadata": {},
          "output_type": "display_data"
        }
      ],
      "source": [
        "plt.figure(figsize=(8, 6))\n",
        "sns.barplot(data=top_5,x=\"Name\",hue=\"serviceName\",y=\"Frequency\")\n",
        "plt.xticks(rotation=90)\n",
        "plt.title(\"Top 5 frequently invoked services and it's Call\")\n",
        "plt.tight_layout()"
      ]
    },
    {
      "cell_type": "markdown",
      "metadata": {
        "id": "C2-X56u4aTrg"
      },
      "source": [
        "**Insights:**\n",
        "\n",
        "From above barchart we get know ,the most fequently invoked service is frondend service for HTTP GET.\n",
        "\n"
      ]
    },
    {
      "cell_type": "markdown",
      "metadata": {
        "id": "kKDl6fDqa4ht"
      },
      "source": [
        "**Finding Relationship between parentspanid and spanid**"
      ]
    },
    {
      "cell_type": "code",
      "execution_count": 92,
      "metadata": {
        "colab": {
          "base_uri": "https://localhost:8080/"
        },
        "id": "FpBSKf__V81s",
        "outputId": "f91b00aa-3b86-420c-a803-55e7507fb4f7"
      },
      "outputs": [
        {
          "name": "stdout",
          "output_type": "stream",
          "text": [
            "Number of rows where parentSpanID matches a spanID: 141817\n"
          ]
        }
      ],
      "source": [
        "##finding realtionship between parentspanid and spanid\n",
        "\n",
        "# Check if parentSpanID matches any spanID\n",
        "relationship = df[df['parentSpanID'].isin(df['spanID'])]\n",
        "\n",
        "# Print the number of rows where parentSpanID matches a spanID\n",
        "print(\"Number of rows where parentSpanID matches a spanID:\", len(relationship))"
      ]
    },
    {
      "cell_type": "markdown",
      "metadata": {
        "id": "HjlHfer-WHWW"
      },
      "source": [
        "**Insights:**\n",
        "\n",
        "1)There is a relationship between 'spanID' and 'parentSpanID', it indicates a hierarchical structure within the tracing data.\n",
        "2)Specifically, it suggests that certain spans are acting as parents or containers for other spans,representing a nested or hierarchical relationship between different units of work within the system."
      ]
    },
    {
      "cell_type": "markdown",
      "metadata": {
        "id": "ogPP-Dz0bqeb"
      },
      "source": [
        "**Finding the number of spans for each trace**"
      ]
    },
    {
      "cell_type": "code",
      "execution_count": 103,
      "metadata": {
        "colab": {
          "base_uri": "https://localhost:8080/"
        },
        "id": "0ohhZh6d-OFW",
        "outputId": "4e57a0e7-17a1-4130-de9f-8cff9e1b3f3d"
      },
      "outputs": [
        {
          "name": "stdout",
          "output_type": "stream",
          "text": [
            "                                  Number of Spans\n",
            "traceID                                          \n",
            "000053bc079dd69baf49f27402f929d1                2\n",
            "0000cfc6e436569ead4e41d6c21dc146                2\n",
            "00024f57bf021b67e2daccbb809f01ba                3\n",
            "0002e6457f1c5989b146bd39de5f6236                2\n",
            "0005d7a764e4468834d5eca0ae2459fc                1\n",
            "...                                           ...\n",
            "fff9810a25d705af4eec8850084ea401                1\n",
            "fffc6901e600b43c712cc8d1fe61ecd2                4\n",
            "fffcf3b8d639393b07e7da5ca0119ae3                3\n",
            "fffda69149e37441ef69c81b9127109c                2\n",
            "fffedf2a701f415b35017375291498d8                3\n",
            "\n",
            "[41792 rows x 1 columns]\n"
          ]
        }
      ],
      "source": [
        "## grouping dataframe based on unique traceid,then finding rows with unique spanid from it.\n",
        "spans_per_trace = df.groupby('traceID')['spanID'].nunique()\n",
        "spans_per_trace\n",
        "spans_per_trace_df = pd.DataFrame(spans_per_trace)\n",
        "spans_per_trace_df.columns = ['Number of Spans']\n",
        "\n",
        "print(spans_per_trace_df)"
      ]
    },
    {
      "cell_type": "markdown",
      "metadata": {
        "id": "QO1AcRHCAQ_z"
      },
      "source": [
        "**Insights:**\n",
        "\n",
        "From the above we can see that a trace may contain multiple spans, it signifies that a single operation or request traverses through multiple services or components in your system.\n"
      ]
    },
    {
      "cell_type": "markdown",
      "metadata": {
        "id": "S7rH_6sGcdhV"
      },
      "source": [
        "**Finding which all services belongs to a particular trace**"
      ]
    },
    {
      "cell_type": "code",
      "execution_count": 105,
      "metadata": {
        "colab": {
          "base_uri": "https://localhost:8080/"
        },
        "id": "nRSFbOFq_M33",
        "outputId": "74cd7fa6-9ca2-45e1-8847-c518bb63ae0b"
      },
      "outputs": [
        {
          "name": "stdout",
          "output_type": "stream",
          "text": [
            "                                traceID                        serviceName\n",
            "0      000053bc079dd69baf49f27402f929d1          [loadgenerator, frontend]\n",
            "1      0000cfc6e436569ead4e41d6c21dc146          [loadgenerator, frontend]\n",
            "2      00024f57bf021b67e2daccbb809f01ba  [frontend, productcatalogservice]\n",
            "3      0002e6457f1c5989b146bd39de5f6236          [loadgenerator, frontend]\n",
            "4      0005d7a764e4468834d5eca0ae2459fc                   [paymentservice]\n",
            "...                                 ...                                ...\n",
            "41787  fff9810a25d705af4eec8850084ea401                   [frontend-proxy]\n",
            "41788  fffc6901e600b43c712cc8d1fe61ecd2              [frontend, adservice]\n",
            "41789  fffcf3b8d639393b07e7da5ca0119ae3  [frontend, productcatalogservice]\n",
            "41790  fffda69149e37441ef69c81b9127109c          [loadgenerator, frontend]\n",
            "41791  fffedf2a701f415b35017375291498d8  [frontend, productcatalogservice]\n",
            "\n",
            "[41792 rows x 2 columns]\n"
          ]
        }
      ],
      "source": [
        "# Group by traceID and aggregate the serviceName values\n",
        "services_per_trace = df.groupby('traceID')['serviceName'].unique()\n",
        "\n",
        "# Convert the result to a DataFrame\n",
        "services_per_trace_df = pd.DataFrame(services_per_trace)\n",
        "services_per_trace_df.reset_index(inplace=True)\n",
        "\n",
        "# Print the DataFrame\n",
        "print(services_per_trace_df)"
      ]
    },
    {
      "cell_type": "markdown",
      "metadata": {
        "id": "wP5hrSTIBAkW"
      },
      "source": [
        "**Insights:**\n",
        "\n",
        "From above we get to know which all services invoked during a single request."
      ]
    },
    {
      "cell_type": "markdown",
      "metadata": {
        "id": "Us_EK30gdKtB"
      },
      "source": [
        "**CONCLUSIONS:**\n",
        "\n",
        "\n",
        "1)From the EDA we get to know that in our given dataset a trace  contain multiple spans, it signifies that a single operation or request traverses through multiple services or components in your system.\n",
        "\n",
        "2)There is a relationship between 'spanID' and 'parentSpanID', it indicates a hierarchical structure within the tracing data.\n",
        "\n",
        "3)Specifically, it suggests that certain spans are acting as parents or containers for other spans,representing a nested or hierarchical relationship between different units of work within the system.\n",
        "\n",
        "4)The most frequently invoked service is frondend service for HTTP GET.\n",
        "\n",
        "5)Most of the span duration is about 2816 nanoseconds."
      ]
    }
  ],
  "metadata": {
    "colab": {
      "provenance": []
    },
    "kernelspec": {
      "display_name": "Python 3",
      "name": "python3"
    },
    "language_info": {
      "name": "python"
    }
  },
  "nbformat": 4,
  "nbformat_minor": 0
}
